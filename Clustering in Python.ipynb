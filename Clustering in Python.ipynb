{
 "cells": [
  {
   "cell_type": "markdown",
   "metadata": {},
   "source": [
    "# RFM Clustering"
   ]
  },
  {
   "cell_type": "markdown",
   "metadata": {},
   "source": [
    "## by Farzad Minooei"
   ]
  },
  {
   "cell_type": "code",
   "execution_count": 1,
   "metadata": {},
   "outputs": [],
   "source": [
    "import numpy as np\n",
    "import matplotlib.pyplot as plt\n",
    "import pandas as pd\n",
    "import seaborn as sns"
   ]
  },
  {
   "cell_type": "markdown",
   "metadata": {},
   "source": [
    "## Read Data from File"
   ]
  },
  {
   "cell_type": "code",
   "execution_count": 2,
   "metadata": {},
   "outputs": [],
   "source": [
    "data = pd.read_csv('CS_08.csv')"
   ]
  },
  {
   "cell_type": "markdown",
   "metadata": {},
   "source": [
    "## Data Inspection"
   ]
  },
  {
   "cell_type": "code",
   "execution_count": 3,
   "metadata": {},
   "outputs": [
    {
     "data": {
      "text/plain": [
       "(40537, 5)"
      ]
     },
     "execution_count": 3,
     "metadata": {},
     "output_type": "execute_result"
    }
   ],
   "source": [
    "data.shape"
   ]
  },
  {
   "cell_type": "code",
   "execution_count": 4,
   "metadata": {},
   "outputs": [
    {
     "data": {
      "text/html": [
       "<div>\n",
       "<style scoped>\n",
       "    .dataframe tbody tr th:only-of-type {\n",
       "        vertical-align: middle;\n",
       "    }\n",
       "\n",
       "    .dataframe tbody tr th {\n",
       "        vertical-align: top;\n",
       "    }\n",
       "\n",
       "    .dataframe thead th {\n",
       "        text-align: right;\n",
       "    }\n",
       "</style>\n",
       "<table border=\"1\" class=\"dataframe\">\n",
       "  <thead>\n",
       "    <tr style=\"text-align: right;\">\n",
       "      <th></th>\n",
       "      <th>order_id</th>\n",
       "      <th>created_ts</th>\n",
       "      <th>shamsy_date</th>\n",
       "      <th>customer_id</th>\n",
       "      <th>total_purchase</th>\n",
       "    </tr>\n",
       "  </thead>\n",
       "  <tbody>\n",
       "    <tr>\n",
       "      <th>0</th>\n",
       "      <td>5c92a3d9a7b11b0001e4ec46</td>\n",
       "      <td>3/21/2019 0:04</td>\n",
       "      <td>1398-Farvardin-1</td>\n",
       "      <td>5bf1092b24aa9a000135ac7c</td>\n",
       "      <td>240000.0</td>\n",
       "    </tr>\n",
       "    <tr>\n",
       "      <th>1</th>\n",
       "      <td>5c92af8024aa9a00015b536d</td>\n",
       "      <td>3/21/2019 0:54</td>\n",
       "      <td>1398-Farvardin-1</td>\n",
       "      <td>58d2fe9b46e0fb0001e432c0</td>\n",
       "      <td>620000.0</td>\n",
       "    </tr>\n",
       "    <tr>\n",
       "      <th>2</th>\n",
       "      <td>5c930b0ea7b11b0001e4f07e</td>\n",
       "      <td>3/21/2019 7:24</td>\n",
       "      <td>1398-Farvardin-1</td>\n",
       "      <td>5c85f140a7b11b0001e65ec1</td>\n",
       "      <td>320000.0</td>\n",
       "    </tr>\n",
       "    <tr>\n",
       "      <th>3</th>\n",
       "      <td>5c93157324aa9a00015b5750</td>\n",
       "      <td>3/21/2019 8:09</td>\n",
       "      <td>1398-Farvardin-1</td>\n",
       "      <td>59c52fe152faff00014e4932</td>\n",
       "      <td>220000.0</td>\n",
       "    </tr>\n",
       "    <tr>\n",
       "      <th>4</th>\n",
       "      <td>5c93250024aa9a00015b5884</td>\n",
       "      <td>3/21/2019 9:15</td>\n",
       "      <td>1398-Farvardin-1</td>\n",
       "      <td>58eba26fd601800001b98a34</td>\n",
       "      <td>360000.0</td>\n",
       "    </tr>\n",
       "  </tbody>\n",
       "</table>\n",
       "</div>"
      ],
      "text/plain": [
       "                   order_id      created_ts       shamsy_date  \\\n",
       "0  5c92a3d9a7b11b0001e4ec46  3/21/2019 0:04  1398-Farvardin-1   \n",
       "1  5c92af8024aa9a00015b536d  3/21/2019 0:54  1398-Farvardin-1   \n",
       "2  5c930b0ea7b11b0001e4f07e  3/21/2019 7:24  1398-Farvardin-1   \n",
       "3  5c93157324aa9a00015b5750  3/21/2019 8:09  1398-Farvardin-1   \n",
       "4  5c93250024aa9a00015b5884  3/21/2019 9:15  1398-Farvardin-1   \n",
       "\n",
       "                customer_id  total_purchase  \n",
       "0  5bf1092b24aa9a000135ac7c        240000.0  \n",
       "1  58d2fe9b46e0fb0001e432c0        620000.0  \n",
       "2  5c85f140a7b11b0001e65ec1        320000.0  \n",
       "3  59c52fe152faff00014e4932        220000.0  \n",
       "4  58eba26fd601800001b98a34        360000.0  "
      ]
     },
     "execution_count": 4,
     "metadata": {},
     "output_type": "execute_result"
    }
   ],
   "source": [
    "data.head()"
   ]
  },
  {
   "cell_type": "code",
   "execution_count": 5,
   "metadata": {},
   "outputs": [
    {
     "name": "stdout",
     "output_type": "stream",
     "text": [
      "<class 'pandas.core.frame.DataFrame'>\n",
      "RangeIndex: 40537 entries, 0 to 40536\n",
      "Data columns (total 5 columns):\n",
      " #   Column          Non-Null Count  Dtype  \n",
      "---  ------          --------------  -----  \n",
      " 0   order_id        40537 non-null  object \n",
      " 1   created_ts      40537 non-null  object \n",
      " 2   shamsy_date     40537 non-null  object \n",
      " 3   customer_id     40537 non-null  object \n",
      " 4   total_purchase  40537 non-null  float64\n",
      "dtypes: float64(1), object(4)\n",
      "memory usage: 1.5+ MB\n"
     ]
    }
   ],
   "source": [
    "data.info()"
   ]
  },
  {
   "cell_type": "code",
   "execution_count": 6,
   "metadata": {},
   "outputs": [
    {
     "data": {
      "text/html": [
       "<div>\n",
       "<style scoped>\n",
       "    .dataframe tbody tr th:only-of-type {\n",
       "        vertical-align: middle;\n",
       "    }\n",
       "\n",
       "    .dataframe tbody tr th {\n",
       "        vertical-align: top;\n",
       "    }\n",
       "\n",
       "    .dataframe thead th {\n",
       "        text-align: right;\n",
       "    }\n",
       "</style>\n",
       "<table border=\"1\" class=\"dataframe\">\n",
       "  <thead>\n",
       "    <tr style=\"text-align: right;\">\n",
       "      <th></th>\n",
       "      <th>total_purchase</th>\n",
       "    </tr>\n",
       "  </thead>\n",
       "  <tbody>\n",
       "    <tr>\n",
       "      <th>count</th>\n",
       "      <td>4.053700e+04</td>\n",
       "    </tr>\n",
       "    <tr>\n",
       "      <th>mean</th>\n",
       "      <td>3.488023e+05</td>\n",
       "    </tr>\n",
       "    <tr>\n",
       "      <th>std</th>\n",
       "      <td>1.414450e+05</td>\n",
       "    </tr>\n",
       "    <tr>\n",
       "      <th>min</th>\n",
       "      <td>8.000000e+04</td>\n",
       "    </tr>\n",
       "    <tr>\n",
       "      <th>25%</th>\n",
       "      <td>2.600000e+05</td>\n",
       "    </tr>\n",
       "    <tr>\n",
       "      <th>50%</th>\n",
       "      <td>3.200000e+05</td>\n",
       "    </tr>\n",
       "    <tr>\n",
       "      <th>75%</th>\n",
       "      <td>4.200000e+05</td>\n",
       "    </tr>\n",
       "    <tr>\n",
       "      <th>max</th>\n",
       "      <td>3.200000e+06</td>\n",
       "    </tr>\n",
       "  </tbody>\n",
       "</table>\n",
       "</div>"
      ],
      "text/plain": [
       "       total_purchase\n",
       "count    4.053700e+04\n",
       "mean     3.488023e+05\n",
       "std      1.414450e+05\n",
       "min      8.000000e+04\n",
       "25%      2.600000e+05\n",
       "50%      3.200000e+05\n",
       "75%      4.200000e+05\n",
       "max      3.200000e+06"
      ]
     },
     "execution_count": 6,
     "metadata": {},
     "output_type": "execute_result"
    }
   ],
   "source": [
    "data.describe()"
   ]
  },
  {
   "cell_type": "code",
   "execution_count": 7,
   "metadata": {},
   "outputs": [
    {
     "data": {
      "text/plain": [
       "Text(0, 0.5, 'Frequency')"
      ]
     },
     "execution_count": 7,
     "metadata": {},
     "output_type": "execute_result"
    },
    {
     "data": {
      "image/png": "[encoded data removed]",
      "text/plain": [
       "<Figure size 432x288 with 1 Axes>"
      ]
     },
     "metadata": {
      "needs_background": "light"
     },
     "output_type": "display_data"
    }
   ],
   "source": [
    "#Histogram of total purchase\n",
    "plt.hist(data['total_purchase'], color = 'green', \n",
    "         bins = np.linspace(data['total_purchase'].min(), data['total_purchase'].max(), 50))\n",
    "plt.xlabel('Total Purchase/Rls')\n",
    "plt.ylabel('Frequency')"
   ]
  },
  {
   "cell_type": "code",
   "execution_count": 8,
   "metadata": {},
   "outputs": [],
   "source": [
    "#daily demand\n",
    "data['created_ts'] = pd.to_datetime(data['created_ts'])"
   ]
  },
  {
   "cell_type": "code",
   "execution_count": 9,
   "metadata": {},
   "outputs": [
    {
     "name": "stdout",
     "output_type": "stream",
     "text": [
      "<class 'pandas.core.frame.DataFrame'>\n",
      "RangeIndex: 40537 entries, 0 to 40536\n",
      "Data columns (total 5 columns):\n",
      " #   Column          Non-Null Count  Dtype         \n",
      "---  ------          --------------  -----         \n",
      " 0   order_id        40537 non-null  object        \n",
      " 1   created_ts      40537 non-null  datetime64[ns]\n",
      " 2   shamsy_date     40537 non-null  object        \n",
      " 3   customer_id     40537 non-null  object        \n",
      " 4   total_purchase  40537 non-null  float64       \n",
      "dtypes: datetime64[ns](1), float64(1), object(3)\n",
      "memory usage: 1.5+ MB\n"
     ]
    }
   ],
   "source": [
    "data.info()"
   ]
  },
  {
   "cell_type": "code",
   "execution_count": 10,
   "metadata": {},
   "outputs": [],
   "source": [
    "data['date'] = data['created_ts'].dt.date"
   ]
  },
  {
   "cell_type": "code",
   "execution_count": 11,
   "metadata": {},
   "outputs": [
    {
     "data": {
      "text/html": [
       "<div>\n",
       "<style scoped>\n",
       "    .dataframe tbody tr th:only-of-type {\n",
       "        vertical-align: middle;\n",
       "    }\n",
       "\n",
       "    .dataframe tbody tr th {\n",
       "        vertical-align: top;\n",
       "    }\n",
       "\n",
       "    .dataframe thead th {\n",
       "        text-align: right;\n",
       "    }\n",
       "</style>\n",
       "<table border=\"1\" class=\"dataframe\">\n",
       "  <thead>\n",
       "    <tr style=\"text-align: right;\">\n",
       "      <th></th>\n",
       "      <th>order_id</th>\n",
       "      <th>created_ts</th>\n",
       "      <th>shamsy_date</th>\n",
       "      <th>customer_id</th>\n",
       "      <th>total_purchase</th>\n",
       "      <th>date</th>\n",
       "    </tr>\n",
       "  </thead>\n",
       "  <tbody>\n",
       "    <tr>\n",
       "      <th>0</th>\n",
       "      <td>5c92a3d9a7b11b0001e4ec46</td>\n",
       "      <td>2019-03-21 00:04:00</td>\n",
       "      <td>1398-Farvardin-1</td>\n",
       "      <td>5bf1092b24aa9a000135ac7c</td>\n",
       "      <td>240000.0</td>\n",
       "      <td>2019-03-21</td>\n",
       "    </tr>\n",
       "    <tr>\n",
       "      <th>1</th>\n",
       "      <td>5c92af8024aa9a00015b536d</td>\n",
       "      <td>2019-03-21 00:54:00</td>\n",
       "      <td>1398-Farvardin-1</td>\n",
       "      <td>58d2fe9b46e0fb0001e432c0</td>\n",
       "      <td>620000.0</td>\n",
       "      <td>2019-03-21</td>\n",
       "    </tr>\n",
       "    <tr>\n",
       "      <th>2</th>\n",
       "      <td>5c930b0ea7b11b0001e4f07e</td>\n",
       "      <td>2019-03-21 07:24:00</td>\n",
       "      <td>1398-Farvardin-1</td>\n",
       "      <td>5c85f140a7b11b0001e65ec1</td>\n",
       "      <td>320000.0</td>\n",
       "      <td>2019-03-21</td>\n",
       "    </tr>\n",
       "    <tr>\n",
       "      <th>3</th>\n",
       "      <td>5c93157324aa9a00015b5750</td>\n",
       "      <td>2019-03-21 08:09:00</td>\n",
       "      <td>1398-Farvardin-1</td>\n",
       "      <td>59c52fe152faff00014e4932</td>\n",
       "      <td>220000.0</td>\n",
       "      <td>2019-03-21</td>\n",
       "    </tr>\n",
       "    <tr>\n",
       "      <th>4</th>\n",
       "      <td>5c93250024aa9a00015b5884</td>\n",
       "      <td>2019-03-21 09:15:00</td>\n",
       "      <td>1398-Farvardin-1</td>\n",
       "      <td>58eba26fd601800001b98a34</td>\n",
       "      <td>360000.0</td>\n",
       "      <td>2019-03-21</td>\n",
       "    </tr>\n",
       "    <tr>\n",
       "      <th>...</th>\n",
       "      <td>...</td>\n",
       "      <td>...</td>\n",
       "      <td>...</td>\n",
       "      <td>...</td>\n",
       "      <td>...</td>\n",
       "      <td>...</td>\n",
       "    </tr>\n",
       "    <tr>\n",
       "      <th>40532</th>\n",
       "      <td>5d35fd03b2cf38d2d17b11c9</td>\n",
       "      <td>2019-07-22 22:44:00</td>\n",
       "      <td>1398-Tir-31</td>\n",
       "      <td>58d2972b46e0fb0001e42133</td>\n",
       "      <td>280000.0</td>\n",
       "      <td>2019-07-22</td>\n",
       "    </tr>\n",
       "    <tr>\n",
       "      <th>40533</th>\n",
       "      <td>5d35fe44ec2c893461deb4e0</td>\n",
       "      <td>2019-07-22 22:49:00</td>\n",
       "      <td>1398-Tir-31</td>\n",
       "      <td>597009a6c9e77c00018c27d9</td>\n",
       "      <td>300000.0</td>\n",
       "      <td>2019-07-22</td>\n",
       "    </tr>\n",
       "    <tr>\n",
       "      <th>40534</th>\n",
       "      <td>5d35ff28b2cf38d2d17b1228</td>\n",
       "      <td>2019-07-22 22:53:00</td>\n",
       "      <td>1398-Tir-31</td>\n",
       "      <td>59222bce52faff00016c59cc</td>\n",
       "      <td>180000.0</td>\n",
       "      <td>2019-07-22</td>\n",
       "    </tr>\n",
       "    <tr>\n",
       "      <th>40535</th>\n",
       "      <td>5d360499b2cf38d2d17b12f6</td>\n",
       "      <td>2019-07-22 23:16:00</td>\n",
       "      <td>1398-Tir-31</td>\n",
       "      <td>5d19f78ab2cf38e5e4deddd6</td>\n",
       "      <td>180000.0</td>\n",
       "      <td>2019-07-22</td>\n",
       "    </tr>\n",
       "    <tr>\n",
       "      <th>40536</th>\n",
       "      <td>5d360b2eec2c893461deb667</td>\n",
       "      <td>2019-07-22 23:44:00</td>\n",
       "      <td>1398-Tir-31</td>\n",
       "      <td>5c46e8fe24aa9a00019af009</td>\n",
       "      <td>180000.0</td>\n",
       "      <td>2019-07-22</td>\n",
       "    </tr>\n",
       "  </tbody>\n",
       "</table>\n",
       "<p>40537 rows × 6 columns</p>\n",
       "</div>"
      ],
      "text/plain": [
       "                       order_id          created_ts       shamsy_date  \\\n",
       "0      5c92a3d9a7b11b0001e4ec46 2019-03-21 00:04:00  1398-Farvardin-1   \n",
       "1      5c92af8024aa9a00015b536d 2019-03-21 00:54:00  1398-Farvardin-1   \n",
       "2      5c930b0ea7b11b0001e4f07e 2019-03-21 07:24:00  1398-Farvardin-1   \n",
       "3      5c93157324aa9a00015b5750 2019-03-21 08:09:00  1398-Farvardin-1   \n",
       "4      5c93250024aa9a00015b5884 2019-03-21 09:15:00  1398-Farvardin-1   \n",
       "...                         ...                 ...               ...   \n",
       "40532  5d35fd03b2cf38d2d17b11c9 2019-07-22 22:44:00       1398-Tir-31   \n",
       "40533  5d35fe44ec2c893461deb4e0 2019-07-22 22:49:00       1398-Tir-31   \n",
       "40534  5d35ff28b2cf38d2d17b1228 2019-07-22 22:53:00       1398-Tir-31   \n",
       "40535  5d360499b2cf38d2d17b12f6 2019-07-22 23:16:00       1398-Tir-31   \n",
       "40536  5d360b2eec2c893461deb667 2019-07-22 23:44:00       1398-Tir-31   \n",
       "\n",
       "                    customer_id  total_purchase        date  \n",
       "0      5bf1092b24aa9a000135ac7c        240000.0  2019-03-21  \n",
       "1      58d2fe9b46e0fb0001e432c0        620000.0  2019-03-21  \n",
       "2      5c85f140a7b11b0001e65ec1        320000.0  2019-03-21  \n",
       "3      59c52fe152faff00014e4932        220000.0  2019-03-21  \n",
       "4      58eba26fd601800001b98a34        360000.0  2019-03-21  \n",
       "...                         ...             ...         ...  \n",
       "40532  58d2972b46e0fb0001e42133        280000.0  2019-07-22  \n",
       "40533  597009a6c9e77c00018c27d9        300000.0  2019-07-22  \n",
       "40534  59222bce52faff00016c59cc        180000.0  2019-07-22  \n",
       "40535  5d19f78ab2cf38e5e4deddd6        180000.0  2019-07-22  \n",
       "40536  5c46e8fe24aa9a00019af009        180000.0  2019-07-22  \n",
       "\n",
       "[40537 rows x 6 columns]"
      ]
     },
     "execution_count": 11,
     "metadata": {},
     "output_type": "execute_result"
    }
   ],
   "source": [
    "data"
   ]
  },
  {
   "cell_type": "code",
   "execution_count": 12,
   "metadata": {},
   "outputs": [],
   "source": [
    "daily_demand = data.groupby(by = ['date'])['order_id'].count()"
   ]
  },
  {
   "cell_type": "code",
   "execution_count": 13,
   "metadata": {},
   "outputs": [
    {
     "data": {
      "text/plain": [
       "(array([17970., 17987., 18001., 18017., 18031., 18048., 18062., 18078.,\n",
       "        18092.]),\n",
       " [Text(0, 0, ''),\n",
       "  Text(0, 0, ''),\n",
       "  Text(0, 0, ''),\n",
       "  Text(0, 0, ''),\n",
       "  Text(0, 0, ''),\n",
       "  Text(0, 0, ''),\n",
       "  Text(0, 0, ''),\n",
       "  Text(0, 0, ''),\n",
       "  Text(0, 0, '')])"
      ]
     },
     "execution_count": 13,
     "metadata": {},
     "output_type": "execute_result"
    },
    {
     "data": {
      "image/png": "[encoded data removed]",
      "text/plain": [
       "<Figure size 432x288 with 1 Axes>"
      ]
     },
     "metadata": {
      "needs_background": "light"
     },
     "output_type": "display_data"
    }
   ],
   "source": [
    "daily_demand.plot()\n",
    "plt.xticks(rotation = 90) "
   ]
  },
  {
   "cell_type": "markdown",
   "metadata": {},
   "source": [
    "## Create RFM Dataset"
   ]
  },
  {
   "cell_type": "markdown",
   "metadata": {},
   "source": [
    "### Frequency"
   ]
  },
  {
   "cell_type": "code",
   "execution_count": 14,
   "metadata": {},
   "outputs": [
    {
     "data": {
      "text/html": [
       "<div>\n",
       "<style scoped>\n",
       "    .dataframe tbody tr th:only-of-type {\n",
       "        vertical-align: middle;\n",
       "    }\n",
       "\n",
       "    .dataframe tbody tr th {\n",
       "        vertical-align: top;\n",
       "    }\n",
       "\n",
       "    .dataframe thead th {\n",
       "        text-align: right;\n",
       "    }\n",
       "</style>\n",
       "<table border=\"1\" class=\"dataframe\">\n",
       "  <thead>\n",
       "    <tr style=\"text-align: right;\">\n",
       "      <th></th>\n",
       "      <th>freq</th>\n",
       "    </tr>\n",
       "    <tr>\n",
       "      <th>customer_id</th>\n",
       "      <th></th>\n",
       "    </tr>\n",
       "  </thead>\n",
       "  <tbody>\n",
       "    <tr>\n",
       "      <th>5.94687E+23</th>\n",
       "      <td>2</td>\n",
       "    </tr>\n",
       "    <tr>\n",
       "      <th>5.94772E+23</th>\n",
       "      <td>1</td>\n",
       "    </tr>\n",
       "    <tr>\n",
       "      <th>5.94773E+23</th>\n",
       "      <td>5</td>\n",
       "    </tr>\n",
       "    <tr>\n",
       "      <th>5.95E+25</th>\n",
       "      <td>1</td>\n",
       "    </tr>\n",
       "    <tr>\n",
       "      <th>58a4b0e452faff000179dbd0</th>\n",
       "      <td>7</td>\n",
       "    </tr>\n",
       "    <tr>\n",
       "      <th>...</th>\n",
       "      <td>...</td>\n",
       "    </tr>\n",
       "    <tr>\n",
       "      <th>5d3584f8b2cf38d2d17aafba</th>\n",
       "      <td>1</td>\n",
       "    </tr>\n",
       "    <tr>\n",
       "      <th>5d359600b2cf38d2d17ac0e7</th>\n",
       "      <td>1</td>\n",
       "    </tr>\n",
       "    <tr>\n",
       "      <th>5d35a06bb2cf38d2d17acbc3</th>\n",
       "      <td>1</td>\n",
       "    </tr>\n",
       "    <tr>\n",
       "      <th>5d35ae07b2cf38d2d17adb54</th>\n",
       "      <td>1</td>\n",
       "    </tr>\n",
       "    <tr>\n",
       "      <th>5d35cf29b2cf38d2d17afcda</th>\n",
       "      <td>1</td>\n",
       "    </tr>\n",
       "  </tbody>\n",
       "</table>\n",
       "<p>14964 rows × 1 columns</p>\n",
       "</div>"
      ],
      "text/plain": [
       "                          freq\n",
       "customer_id                   \n",
       "5.94687E+23                  2\n",
       "5.94772E+23                  1\n",
       "5.94773E+23                  5\n",
       "5.95E+25                     1\n",
       "58a4b0e452faff000179dbd0     7\n",
       "...                        ...\n",
       "5d3584f8b2cf38d2d17aafba     1\n",
       "5d359600b2cf38d2d17ac0e7     1\n",
       "5d35a06bb2cf38d2d17acbc3     1\n",
       "5d35ae07b2cf38d2d17adb54     1\n",
       "5d35cf29b2cf38d2d17afcda     1\n",
       "\n",
       "[14964 rows x 1 columns]"
      ]
     },
     "execution_count": 14,
     "metadata": {},
     "output_type": "execute_result"
    }
   ],
   "source": [
    "customer_f = pd.DataFrame({'freq': data.groupby(by = ['customer_id'])['order_id'].count()})\n",
    "customer_f"
   ]
  },
  {
   "cell_type": "code",
   "execution_count": 15,
   "metadata": {},
   "outputs": [
    {
     "data": {
      "text/plain": [
       "Text(0, 0.5, 'Frequency')"
      ]
     },
     "execution_count": 15,
     "metadata": {},
     "output_type": "execute_result"
    },
    {
     "data": {
      "image/png": "[encoded data removed]",
      "text/plain": [
       "<Figure size 432x288 with 1 Axes>"
      ]
     },
     "metadata": {
      "needs_background": "light"
     },
     "output_type": "display_data"
    }
   ],
   "source": [
    "#Histogram of purchase frequency\n",
    "plt.hist(customer_f['freq'], color = 'green', \n",
    "         bins = np.linspace(customer_f['freq'].min(), customer_f['freq'].max(), 50))\n",
    "plt.xlabel('Purchase Frequency')\n",
    "plt.ylabel('Frequency')"
   ]
  },
  {
   "cell_type": "code",
   "execution_count": 16,
   "metadata": {},
   "outputs": [
    {
     "data": {
      "text/html": [
       "<div>\n",
       "<style scoped>\n",
       "    .dataframe tbody tr th:only-of-type {\n",
       "        vertical-align: middle;\n",
       "    }\n",
       "\n",
       "    .dataframe tbody tr th {\n",
       "        vertical-align: top;\n",
       "    }\n",
       "\n",
       "    .dataframe thead th {\n",
       "        text-align: right;\n",
       "    }\n",
       "</style>\n",
       "<table border=\"1\" class=\"dataframe\">\n",
       "  <thead>\n",
       "    <tr style=\"text-align: right;\">\n",
       "      <th></th>\n",
       "      <th>freq</th>\n",
       "    </tr>\n",
       "  </thead>\n",
       "  <tbody>\n",
       "    <tr>\n",
       "      <th>count</th>\n",
       "      <td>14964.000000</td>\n",
       "    </tr>\n",
       "    <tr>\n",
       "      <th>mean</th>\n",
       "      <td>2.708968</td>\n",
       "    </tr>\n",
       "    <tr>\n",
       "      <th>std</th>\n",
       "      <td>3.425412</td>\n",
       "    </tr>\n",
       "    <tr>\n",
       "      <th>min</th>\n",
       "      <td>1.000000</td>\n",
       "    </tr>\n",
       "    <tr>\n",
       "      <th>25%</th>\n",
       "      <td>1.000000</td>\n",
       "    </tr>\n",
       "    <tr>\n",
       "      <th>50%</th>\n",
       "      <td>1.000000</td>\n",
       "    </tr>\n",
       "    <tr>\n",
       "      <th>75%</th>\n",
       "      <td>3.000000</td>\n",
       "    </tr>\n",
       "    <tr>\n",
       "      <th>max</th>\n",
       "      <td>61.000000</td>\n",
       "    </tr>\n",
       "  </tbody>\n",
       "</table>\n",
       "</div>"
      ],
      "text/plain": [
       "               freq\n",
       "count  14964.000000\n",
       "mean       2.708968\n",
       "std        3.425412\n",
       "min        1.000000\n",
       "25%        1.000000\n",
       "50%        1.000000\n",
       "75%        3.000000\n",
       "max       61.000000"
      ]
     },
     "execution_count": 16,
     "metadata": {},
     "output_type": "execute_result"
    }
   ],
   "source": [
    "customer_f.describe()"
   ]
  },
  {
   "cell_type": "markdown",
   "metadata": {},
   "source": [
    "### Recency"
   ]
  },
  {
   "cell_type": "code",
   "execution_count": 17,
   "metadata": {},
   "outputs": [
    {
     "data": {
      "text/html": [
       "<div>\n",
       "<style scoped>\n",
       "    .dataframe tbody tr th:only-of-type {\n",
       "        vertical-align: middle;\n",
       "    }\n",
       "\n",
       "    .dataframe tbody tr th {\n",
       "        vertical-align: top;\n",
       "    }\n",
       "\n",
       "    .dataframe thead th {\n",
       "        text-align: right;\n",
       "    }\n",
       "</style>\n",
       "<table border=\"1\" class=\"dataframe\">\n",
       "  <thead>\n",
       "    <tr style=\"text-align: right;\">\n",
       "      <th></th>\n",
       "      <th>order_id</th>\n",
       "      <th>created_ts</th>\n",
       "      <th>shamsy_date</th>\n",
       "      <th>customer_id</th>\n",
       "      <th>total_purchase</th>\n",
       "      <th>date</th>\n",
       "    </tr>\n",
       "  </thead>\n",
       "  <tbody>\n",
       "    <tr>\n",
       "      <th>40532</th>\n",
       "      <td>5d35fd03b2cf38d2d17b11c9</td>\n",
       "      <td>2019-07-22 22:44:00</td>\n",
       "      <td>1398-Tir-31</td>\n",
       "      <td>58d2972b46e0fb0001e42133</td>\n",
       "      <td>280000.0</td>\n",
       "      <td>2019-07-22</td>\n",
       "    </tr>\n",
       "    <tr>\n",
       "      <th>40533</th>\n",
       "      <td>5d35fe44ec2c893461deb4e0</td>\n",
       "      <td>2019-07-22 22:49:00</td>\n",
       "      <td>1398-Tir-31</td>\n",
       "      <td>597009a6c9e77c00018c27d9</td>\n",
       "      <td>300000.0</td>\n",
       "      <td>2019-07-22</td>\n",
       "    </tr>\n",
       "    <tr>\n",
       "      <th>40534</th>\n",
       "      <td>5d35ff28b2cf38d2d17b1228</td>\n",
       "      <td>2019-07-22 22:53:00</td>\n",
       "      <td>1398-Tir-31</td>\n",
       "      <td>59222bce52faff00016c59cc</td>\n",
       "      <td>180000.0</td>\n",
       "      <td>2019-07-22</td>\n",
       "    </tr>\n",
       "    <tr>\n",
       "      <th>40535</th>\n",
       "      <td>5d360499b2cf38d2d17b12f6</td>\n",
       "      <td>2019-07-22 23:16:00</td>\n",
       "      <td>1398-Tir-31</td>\n",
       "      <td>5d19f78ab2cf38e5e4deddd6</td>\n",
       "      <td>180000.0</td>\n",
       "      <td>2019-07-22</td>\n",
       "    </tr>\n",
       "    <tr>\n",
       "      <th>40536</th>\n",
       "      <td>5d360b2eec2c893461deb667</td>\n",
       "      <td>2019-07-22 23:44:00</td>\n",
       "      <td>1398-Tir-31</td>\n",
       "      <td>5c46e8fe24aa9a00019af009</td>\n",
       "      <td>180000.0</td>\n",
       "      <td>2019-07-22</td>\n",
       "    </tr>\n",
       "  </tbody>\n",
       "</table>\n",
       "</div>"
      ],
      "text/plain": [
       "                       order_id          created_ts  shamsy_date  \\\n",
       "40532  5d35fd03b2cf38d2d17b11c9 2019-07-22 22:44:00  1398-Tir-31   \n",
       "40533  5d35fe44ec2c893461deb4e0 2019-07-22 22:49:00  1398-Tir-31   \n",
       "40534  5d35ff28b2cf38d2d17b1228 2019-07-22 22:53:00  1398-Tir-31   \n",
       "40535  5d360499b2cf38d2d17b12f6 2019-07-22 23:16:00  1398-Tir-31   \n",
       "40536  5d360b2eec2c893461deb667 2019-07-22 23:44:00  1398-Tir-31   \n",
       "\n",
       "                    customer_id  total_purchase        date  \n",
       "40532  58d2972b46e0fb0001e42133        280000.0  2019-07-22  \n",
       "40533  597009a6c9e77c00018c27d9        300000.0  2019-07-22  \n",
       "40534  59222bce52faff00016c59cc        180000.0  2019-07-22  \n",
       "40535  5d19f78ab2cf38e5e4deddd6        180000.0  2019-07-22  \n",
       "40536  5c46e8fe24aa9a00019af009        180000.0  2019-07-22  "
      ]
     },
     "execution_count": 17,
     "metadata": {},
     "output_type": "execute_result"
    }
   ],
   "source": [
    "data.tail()"
   ]
  },
  {
   "cell_type": "code",
   "execution_count": 18,
   "metadata": {},
   "outputs": [],
   "source": [
    "r_date = pd.to_datetime('2019-07-23').date() - data['date']"
   ]
  },
  {
   "cell_type": "code",
   "execution_count": 19,
   "metadata": {},
   "outputs": [
    {
     "data": {
      "text/plain": [
       "Timedelta('124 days 00:00:00')"
      ]
     },
     "execution_count": 19,
     "metadata": {},
     "output_type": "execute_result"
    }
   ],
   "source": [
    "r_date[0]"
   ]
  },
  {
   "cell_type": "code",
   "execution_count": 20,
   "metadata": {},
   "outputs": [
    {
     "data": {
      "text/plain": [
       "0        124\n",
       "1        124\n",
       "2        124\n",
       "3        124\n",
       "4        124\n",
       "        ... \n",
       "40532      1\n",
       "40533      1\n",
       "40534      1\n",
       "40535      1\n",
       "40536      1\n",
       "Name: date, Length: 40537, dtype: int64"
      ]
     },
     "execution_count": 20,
     "metadata": {},
     "output_type": "execute_result"
    }
   ],
   "source": [
    "r_date.dt.days"
   ]
  },
  {
   "cell_type": "code",
   "execution_count": 21,
   "metadata": {},
   "outputs": [
    {
     "data": {
      "text/html": [
       "<div>\n",
       "<style scoped>\n",
       "    .dataframe tbody tr th:only-of-type {\n",
       "        vertical-align: middle;\n",
       "    }\n",
       "\n",
       "    .dataframe tbody tr th {\n",
       "        vertical-align: top;\n",
       "    }\n",
       "\n",
       "    .dataframe thead th {\n",
       "        text-align: right;\n",
       "    }\n",
       "</style>\n",
       "<table border=\"1\" class=\"dataframe\">\n",
       "  <thead>\n",
       "    <tr style=\"text-align: right;\">\n",
       "      <th></th>\n",
       "      <th>order_id</th>\n",
       "      <th>created_ts</th>\n",
       "      <th>shamsy_date</th>\n",
       "      <th>customer_id</th>\n",
       "      <th>total_purchase</th>\n",
       "      <th>date</th>\n",
       "      <th>r_date</th>\n",
       "    </tr>\n",
       "  </thead>\n",
       "  <tbody>\n",
       "    <tr>\n",
       "      <th>0</th>\n",
       "      <td>5c92a3d9a7b11b0001e4ec46</td>\n",
       "      <td>2019-03-21 00:04:00</td>\n",
       "      <td>1398-Farvardin-1</td>\n",
       "      <td>5bf1092b24aa9a000135ac7c</td>\n",
       "      <td>240000.0</td>\n",
       "      <td>2019-03-21</td>\n",
       "      <td>124</td>\n",
       "    </tr>\n",
       "    <tr>\n",
       "      <th>1</th>\n",
       "      <td>5c92af8024aa9a00015b536d</td>\n",
       "      <td>2019-03-21 00:54:00</td>\n",
       "      <td>1398-Farvardin-1</td>\n",
       "      <td>58d2fe9b46e0fb0001e432c0</td>\n",
       "      <td>620000.0</td>\n",
       "      <td>2019-03-21</td>\n",
       "      <td>124</td>\n",
       "    </tr>\n",
       "    <tr>\n",
       "      <th>2</th>\n",
       "      <td>5c930b0ea7b11b0001e4f07e</td>\n",
       "      <td>2019-03-21 07:24:00</td>\n",
       "      <td>1398-Farvardin-1</td>\n",
       "      <td>5c85f140a7b11b0001e65ec1</td>\n",
       "      <td>320000.0</td>\n",
       "      <td>2019-03-21</td>\n",
       "      <td>124</td>\n",
       "    </tr>\n",
       "    <tr>\n",
       "      <th>3</th>\n",
       "      <td>5c93157324aa9a00015b5750</td>\n",
       "      <td>2019-03-21 08:09:00</td>\n",
       "      <td>1398-Farvardin-1</td>\n",
       "      <td>59c52fe152faff00014e4932</td>\n",
       "      <td>220000.0</td>\n",
       "      <td>2019-03-21</td>\n",
       "      <td>124</td>\n",
       "    </tr>\n",
       "    <tr>\n",
       "      <th>4</th>\n",
       "      <td>5c93250024aa9a00015b5884</td>\n",
       "      <td>2019-03-21 09:15:00</td>\n",
       "      <td>1398-Farvardin-1</td>\n",
       "      <td>58eba26fd601800001b98a34</td>\n",
       "      <td>360000.0</td>\n",
       "      <td>2019-03-21</td>\n",
       "      <td>124</td>\n",
       "    </tr>\n",
       "    <tr>\n",
       "      <th>...</th>\n",
       "      <td>...</td>\n",
       "      <td>...</td>\n",
       "      <td>...</td>\n",
       "      <td>...</td>\n",
       "      <td>...</td>\n",
       "      <td>...</td>\n",
       "      <td>...</td>\n",
       "    </tr>\n",
       "    <tr>\n",
       "      <th>40532</th>\n",
       "      <td>5d35fd03b2cf38d2d17b11c9</td>\n",
       "      <td>2019-07-22 22:44:00</td>\n",
       "      <td>1398-Tir-31</td>\n",
       "      <td>58d2972b46e0fb0001e42133</td>\n",
       "      <td>280000.0</td>\n",
       "      <td>2019-07-22</td>\n",
       "      <td>1</td>\n",
       "    </tr>\n",
       "    <tr>\n",
       "      <th>40533</th>\n",
       "      <td>5d35fe44ec2c893461deb4e0</td>\n",
       "      <td>2019-07-22 22:49:00</td>\n",
       "      <td>1398-Tir-31</td>\n",
       "      <td>597009a6c9e77c00018c27d9</td>\n",
       "      <td>300000.0</td>\n",
       "      <td>2019-07-22</td>\n",
       "      <td>1</td>\n",
       "    </tr>\n",
       "    <tr>\n",
       "      <th>40534</th>\n",
       "      <td>5d35ff28b2cf38d2d17b1228</td>\n",
       "      <td>2019-07-22 22:53:00</td>\n",
       "      <td>1398-Tir-31</td>\n",
       "      <td>59222bce52faff00016c59cc</td>\n",
       "      <td>180000.0</td>\n",
       "      <td>2019-07-22</td>\n",
       "      <td>1</td>\n",
       "    </tr>\n",
       "    <tr>\n",
       "      <th>40535</th>\n",
       "      <td>5d360499b2cf38d2d17b12f6</td>\n",
       "      <td>2019-07-22 23:16:00</td>\n",
       "      <td>1398-Tir-31</td>\n",
       "      <td>5d19f78ab2cf38e5e4deddd6</td>\n",
       "      <td>180000.0</td>\n",
       "      <td>2019-07-22</td>\n",
       "      <td>1</td>\n",
       "    </tr>\n",
       "    <tr>\n",
       "      <th>40536</th>\n",
       "      <td>5d360b2eec2c893461deb667</td>\n",
       "      <td>2019-07-22 23:44:00</td>\n",
       "      <td>1398-Tir-31</td>\n",
       "      <td>5c46e8fe24aa9a00019af009</td>\n",
       "      <td>180000.0</td>\n",
       "      <td>2019-07-22</td>\n",
       "      <td>1</td>\n",
       "    </tr>\n",
       "  </tbody>\n",
       "</table>\n",
       "<p>40537 rows × 7 columns</p>\n",
       "</div>"
      ],
      "text/plain": [
       "                       order_id          created_ts       shamsy_date  \\\n",
       "0      5c92a3d9a7b11b0001e4ec46 2019-03-21 00:04:00  1398-Farvardin-1   \n",
       "1      5c92af8024aa9a00015b536d 2019-03-21 00:54:00  1398-Farvardin-1   \n",
       "2      5c930b0ea7b11b0001e4f07e 2019-03-21 07:24:00  1398-Farvardin-1   \n",
       "3      5c93157324aa9a00015b5750 2019-03-21 08:09:00  1398-Farvardin-1   \n",
       "4      5c93250024aa9a00015b5884 2019-03-21 09:15:00  1398-Farvardin-1   \n",
       "...                         ...                 ...               ...   \n",
       "40532  5d35fd03b2cf38d2d17b11c9 2019-07-22 22:44:00       1398-Tir-31   \n",
       "40533  5d35fe44ec2c893461deb4e0 2019-07-22 22:49:00       1398-Tir-31   \n",
       "40534  5d35ff28b2cf38d2d17b1228 2019-07-22 22:53:00       1398-Tir-31   \n",
       "40535  5d360499b2cf38d2d17b12f6 2019-07-22 23:16:00       1398-Tir-31   \n",
       "40536  5d360b2eec2c893461deb667 2019-07-22 23:44:00       1398-Tir-31   \n",
       "\n",
       "                    customer_id  total_purchase        date  r_date  \n",
       "0      5bf1092b24aa9a000135ac7c        240000.0  2019-03-21     124  \n",
       "1      58d2fe9b46e0fb0001e432c0        620000.0  2019-03-21     124  \n",
       "2      5c85f140a7b11b0001e65ec1        320000.0  2019-03-21     124  \n",
       "3      59c52fe152faff00014e4932        220000.0  2019-03-21     124  \n",
       "4      58eba26fd601800001b98a34        360000.0  2019-03-21     124  \n",
       "...                         ...             ...         ...     ...  \n",
       "40532  58d2972b46e0fb0001e42133        280000.0  2019-07-22       1  \n",
       "40533  597009a6c9e77c00018c27d9        300000.0  2019-07-22       1  \n",
       "40534  59222bce52faff00016c59cc        180000.0  2019-07-22       1  \n",
       "40535  5d19f78ab2cf38e5e4deddd6        180000.0  2019-07-22       1  \n",
       "40536  5c46e8fe24aa9a00019af009        180000.0  2019-07-22       1  \n",
       "\n",
       "[40537 rows x 7 columns]"
      ]
     },
     "execution_count": 21,
     "metadata": {},
     "output_type": "execute_result"
    }
   ],
   "source": [
    "data['r_date'] = r_date.dt.days\n",
    "data"
   ]
  },
  {
   "cell_type": "code",
   "execution_count": 22,
   "metadata": {},
   "outputs": [
    {
     "data": {
      "text/html": [
       "<div>\n",
       "<style scoped>\n",
       "    .dataframe tbody tr th:only-of-type {\n",
       "        vertical-align: middle;\n",
       "    }\n",
       "\n",
       "    .dataframe tbody tr th {\n",
       "        vertical-align: top;\n",
       "    }\n",
       "\n",
       "    .dataframe thead th {\n",
       "        text-align: right;\n",
       "    }\n",
       "</style>\n",
       "<table border=\"1\" class=\"dataframe\">\n",
       "  <thead>\n",
       "    <tr style=\"text-align: right;\">\n",
       "      <th></th>\n",
       "      <th>recency</th>\n",
       "    </tr>\n",
       "    <tr>\n",
       "      <th>customer_id</th>\n",
       "      <th></th>\n",
       "    </tr>\n",
       "  </thead>\n",
       "  <tbody>\n",
       "    <tr>\n",
       "      <th>5.94687E+23</th>\n",
       "      <td>9</td>\n",
       "    </tr>\n",
       "    <tr>\n",
       "      <th>5.94772E+23</th>\n",
       "      <td>64</td>\n",
       "    </tr>\n",
       "    <tr>\n",
       "      <th>5.94773E+23</th>\n",
       "      <td>9</td>\n",
       "    </tr>\n",
       "    <tr>\n",
       "      <th>5.95E+25</th>\n",
       "      <td>5</td>\n",
       "    </tr>\n",
       "    <tr>\n",
       "      <th>58a4b0e452faff000179dbd0</th>\n",
       "      <td>7</td>\n",
       "    </tr>\n",
       "    <tr>\n",
       "      <th>...</th>\n",
       "      <td>...</td>\n",
       "    </tr>\n",
       "    <tr>\n",
       "      <th>5d3584f8b2cf38d2d17aafba</th>\n",
       "      <td>1</td>\n",
       "    </tr>\n",
       "    <tr>\n",
       "      <th>5d359600b2cf38d2d17ac0e7</th>\n",
       "      <td>1</td>\n",
       "    </tr>\n",
       "    <tr>\n",
       "      <th>5d35a06bb2cf38d2d17acbc3</th>\n",
       "      <td>1</td>\n",
       "    </tr>\n",
       "    <tr>\n",
       "      <th>5d35ae07b2cf38d2d17adb54</th>\n",
       "      <td>1</td>\n",
       "    </tr>\n",
       "    <tr>\n",
       "      <th>5d35cf29b2cf38d2d17afcda</th>\n",
       "      <td>1</td>\n",
       "    </tr>\n",
       "  </tbody>\n",
       "</table>\n",
       "<p>14964 rows × 1 columns</p>\n",
       "</div>"
      ],
      "text/plain": [
       "                          recency\n",
       "customer_id                      \n",
       "5.94687E+23                     9\n",
       "5.94772E+23                    64\n",
       "5.94773E+23                     9\n",
       "5.95E+25                        5\n",
       "58a4b0e452faff000179dbd0        7\n",
       "...                           ...\n",
       "5d3584f8b2cf38d2d17aafba        1\n",
       "5d359600b2cf38d2d17ac0e7        1\n",
       "5d35a06bb2cf38d2d17acbc3        1\n",
       "5d35ae07b2cf38d2d17adb54        1\n",
       "5d35cf29b2cf38d2d17afcda        1\n",
       "\n",
       "[14964 rows x 1 columns]"
      ]
     },
     "execution_count": 22,
     "metadata": {},
     "output_type": "execute_result"
    }
   ],
   "source": [
    "customer_r = pd.DataFrame({'recency': data.groupby(by = ['customer_id'])['r_date'].min()})\n",
    "customer_r"
   ]
  },
  {
   "cell_type": "code",
   "execution_count": 23,
   "metadata": {},
   "outputs": [
    {
     "data": {
      "text/plain": [
       "Text(0, 0.5, 'Frequency')"
      ]
     },
     "execution_count": 23,
     "metadata": {},
     "output_type": "execute_result"
    },
    {
     "data": {
      "image/png": "[encoded data removed]",
      "text/plain": [
       "<Figure size 432x288 with 1 Axes>"
      ]
     },
     "metadata": {
      "needs_background": "light"
     },
     "output_type": "display_data"
    }
   ],
   "source": [
    "#Histogram of recency\n",
    "plt.hist(customer_r['recency'], color = 'green', \n",
    "         bins = np.linspace(customer_r['recency'].min(), customer_r['recency'].max(), 50))\n",
    "plt.xlabel('Recency')\n",
    "plt.ylabel('Frequency')"
   ]
  },
  {
   "cell_type": "code",
   "execution_count": 24,
   "metadata": {},
   "outputs": [
    {
     "data": {
      "text/html": [
       "<div>\n",
       "<style scoped>\n",
       "    .dataframe tbody tr th:only-of-type {\n",
       "        vertical-align: middle;\n",
       "    }\n",
       "\n",
       "    .dataframe tbody tr th {\n",
       "        vertical-align: top;\n",
       "    }\n",
       "\n",
       "    .dataframe thead th {\n",
       "        text-align: right;\n",
       "    }\n",
       "</style>\n",
       "<table border=\"1\" class=\"dataframe\">\n",
       "  <thead>\n",
       "    <tr style=\"text-align: right;\">\n",
       "      <th></th>\n",
       "      <th>recency</th>\n",
       "    </tr>\n",
       "  </thead>\n",
       "  <tbody>\n",
       "    <tr>\n",
       "      <th>count</th>\n",
       "      <td>14964.000000</td>\n",
       "    </tr>\n",
       "    <tr>\n",
       "      <th>mean</th>\n",
       "      <td>30.497995</td>\n",
       "    </tr>\n",
       "    <tr>\n",
       "      <th>std</th>\n",
       "      <td>30.833106</td>\n",
       "    </tr>\n",
       "    <tr>\n",
       "      <th>min</th>\n",
       "      <td>1.000000</td>\n",
       "    </tr>\n",
       "    <tr>\n",
       "      <th>25%</th>\n",
       "      <td>7.000000</td>\n",
       "    </tr>\n",
       "    <tr>\n",
       "      <th>50%</th>\n",
       "      <td>19.000000</td>\n",
       "    </tr>\n",
       "    <tr>\n",
       "      <th>75%</th>\n",
       "      <td>43.000000</td>\n",
       "    </tr>\n",
       "    <tr>\n",
       "      <th>max</th>\n",
       "      <td>124.000000</td>\n",
       "    </tr>\n",
       "  </tbody>\n",
       "</table>\n",
       "</div>"
      ],
      "text/plain": [
       "            recency\n",
       "count  14964.000000\n",
       "mean      30.497995\n",
       "std       30.833106\n",
       "min        1.000000\n",
       "25%        7.000000\n",
       "50%       19.000000\n",
       "75%       43.000000\n",
       "max      124.000000"
      ]
     },
     "execution_count": 24,
     "metadata": {},
     "output_type": "execute_result"
    }
   ],
   "source": [
    "customer_r.describe()"
   ]
  },
  {
   "cell_type": "markdown",
   "metadata": {},
   "source": [
    "### Monetary "
   ]
  },
  {
   "cell_type": "code",
   "execution_count": 25,
   "metadata": {},
   "outputs": [
    {
     "data": {
      "text/html": [
       "<div>\n",
       "<style scoped>\n",
       "    .dataframe tbody tr th:only-of-type {\n",
       "        vertical-align: middle;\n",
       "    }\n",
       "\n",
       "    .dataframe tbody tr th {\n",
       "        vertical-align: top;\n",
       "    }\n",
       "\n",
       "    .dataframe thead th {\n",
       "        text-align: right;\n",
       "    }\n",
       "</style>\n",
       "<table border=\"1\" class=\"dataframe\">\n",
       "  <thead>\n",
       "    <tr style=\"text-align: right;\">\n",
       "      <th></th>\n",
       "      <th>monetary</th>\n",
       "    </tr>\n",
       "    <tr>\n",
       "      <th>customer_id</th>\n",
       "      <th></th>\n",
       "    </tr>\n",
       "  </thead>\n",
       "  <tbody>\n",
       "    <tr>\n",
       "      <th>5.94687E+23</th>\n",
       "      <td>680000.0</td>\n",
       "    </tr>\n",
       "    <tr>\n",
       "      <th>5.94772E+23</th>\n",
       "      <td>600000.0</td>\n",
       "    </tr>\n",
       "    <tr>\n",
       "      <th>5.94773E+23</th>\n",
       "      <td>1700000.0</td>\n",
       "    </tr>\n",
       "    <tr>\n",
       "      <th>5.95E+25</th>\n",
       "      <td>320000.0</td>\n",
       "    </tr>\n",
       "    <tr>\n",
       "      <th>58a4b0e452faff000179dbd0</th>\n",
       "      <td>1480000.0</td>\n",
       "    </tr>\n",
       "    <tr>\n",
       "      <th>...</th>\n",
       "      <td>...</td>\n",
       "    </tr>\n",
       "    <tr>\n",
       "      <th>5d3584f8b2cf38d2d17aafba</th>\n",
       "      <td>200000.0</td>\n",
       "    </tr>\n",
       "    <tr>\n",
       "      <th>5d359600b2cf38d2d17ac0e7</th>\n",
       "      <td>520000.0</td>\n",
       "    </tr>\n",
       "    <tr>\n",
       "      <th>5d35a06bb2cf38d2d17acbc3</th>\n",
       "      <td>440000.0</td>\n",
       "    </tr>\n",
       "    <tr>\n",
       "      <th>5d35ae07b2cf38d2d17adb54</th>\n",
       "      <td>200000.0</td>\n",
       "    </tr>\n",
       "    <tr>\n",
       "      <th>5d35cf29b2cf38d2d17afcda</th>\n",
       "      <td>420000.0</td>\n",
       "    </tr>\n",
       "  </tbody>\n",
       "</table>\n",
       "<p>14964 rows × 1 columns</p>\n",
       "</div>"
      ],
      "text/plain": [
       "                           monetary\n",
       "customer_id                        \n",
       "5.94687E+23                680000.0\n",
       "5.94772E+23                600000.0\n",
       "5.94773E+23               1700000.0\n",
       "5.95E+25                   320000.0\n",
       "58a4b0e452faff000179dbd0  1480000.0\n",
       "...                             ...\n",
       "5d3584f8b2cf38d2d17aafba   200000.0\n",
       "5d359600b2cf38d2d17ac0e7   520000.0\n",
       "5d35a06bb2cf38d2d17acbc3   440000.0\n",
       "5d35ae07b2cf38d2d17adb54   200000.0\n",
       "5d35cf29b2cf38d2d17afcda   420000.0\n",
       "\n",
       "[14964 rows x 1 columns]"
      ]
     },
     "execution_count": 25,
     "metadata": {},
     "output_type": "execute_result"
    }
   ],
   "source": [
    "customer_m = pd.DataFrame({'monetary': data.groupby(by = ['customer_id'])['total_purchase'].sum()})\n",
    "customer_m"
   ]
  },
  {
   "cell_type": "code",
   "execution_count": 26,
   "metadata": {},
   "outputs": [
    {
     "data": {
      "text/plain": [
       "Text(0, 0.5, 'Frequency')"
      ]
     },
     "execution_count": 26,
     "metadata": {},
     "output_type": "execute_result"
    },
    {
     "data": {
      "image/png": "[encoded data removed]",
      "text/plain": [
       "<Figure size 432x288 with 1 Axes>"
      ]
     },
     "metadata": {
      "needs_background": "light"
     },
     "output_type": "display_data"
    }
   ],
   "source": [
    "#Histogram of recency\n",
    "plt.hist(customer_m['monetary'], color = 'green', \n",
    "         bins = np.linspace(customer_m['monetary'].min(), customer_m['monetary'].max(), 50))\n",
    "plt.xlabel('Monetary')\n",
    "plt.ylabel('Frequency')"
   ]
  },
  {
   "cell_type": "code",
   "execution_count": 27,
   "metadata": {},
   "outputs": [
    {
     "data": {
      "text/html": [
       "<div>\n",
       "<style scoped>\n",
       "    .dataframe tbody tr th:only-of-type {\n",
       "        vertical-align: middle;\n",
       "    }\n",
       "\n",
       "    .dataframe tbody tr th {\n",
       "        vertical-align: top;\n",
       "    }\n",
       "\n",
       "    .dataframe thead th {\n",
       "        text-align: right;\n",
       "    }\n",
       "</style>\n",
       "<table border=\"1\" class=\"dataframe\">\n",
       "  <thead>\n",
       "    <tr style=\"text-align: right;\">\n",
       "      <th></th>\n",
       "      <th>monetary</th>\n",
       "    </tr>\n",
       "  </thead>\n",
       "  <tbody>\n",
       "    <tr>\n",
       "      <th>count</th>\n",
       "      <td>1.496400e+04</td>\n",
       "    </tr>\n",
       "    <tr>\n",
       "      <th>mean</th>\n",
       "      <td>9.448944e+05</td>\n",
       "    </tr>\n",
       "    <tr>\n",
       "      <th>std</th>\n",
       "      <td>1.217563e+06</td>\n",
       "    </tr>\n",
       "    <tr>\n",
       "      <th>min</th>\n",
       "      <td>8.000000e+04</td>\n",
       "    </tr>\n",
       "    <tr>\n",
       "      <th>25%</th>\n",
       "      <td>3.200000e+05</td>\n",
       "    </tr>\n",
       "    <tr>\n",
       "      <th>50%</th>\n",
       "      <td>5.200000e+05</td>\n",
       "    </tr>\n",
       "    <tr>\n",
       "      <th>75%</th>\n",
       "      <td>1.040000e+06</td>\n",
       "    </tr>\n",
       "    <tr>\n",
       "      <th>max</th>\n",
       "      <td>2.042000e+07</td>\n",
       "    </tr>\n",
       "  </tbody>\n",
       "</table>\n",
       "</div>"
      ],
      "text/plain": [
       "           monetary\n",
       "count  1.496400e+04\n",
       "mean   9.448944e+05\n",
       "std    1.217563e+06\n",
       "min    8.000000e+04\n",
       "25%    3.200000e+05\n",
       "50%    5.200000e+05\n",
       "75%    1.040000e+06\n",
       "max    2.042000e+07"
      ]
     },
     "execution_count": 27,
     "metadata": {},
     "output_type": "execute_result"
    }
   ],
   "source": [
    "customer_m.describe()"
   ]
  },
  {
   "cell_type": "markdown",
   "metadata": {},
   "source": [
    "### RFM Dataframe for Customers"
   ]
  },
  {
   "cell_type": "code",
   "execution_count": 28,
   "metadata": {},
   "outputs": [
    {
     "data": {
      "text/html": [
       "<div>\n",
       "<style scoped>\n",
       "    .dataframe tbody tr th:only-of-type {\n",
       "        vertical-align: middle;\n",
       "    }\n",
       "\n",
       "    .dataframe tbody tr th {\n",
       "        vertical-align: top;\n",
       "    }\n",
       "\n",
       "    .dataframe thead th {\n",
       "        text-align: right;\n",
       "    }\n",
       "</style>\n",
       "<table border=\"1\" class=\"dataframe\">\n",
       "  <thead>\n",
       "    <tr style=\"text-align: right;\">\n",
       "      <th></th>\n",
       "      <th>freq</th>\n",
       "      <th>recency</th>\n",
       "    </tr>\n",
       "    <tr>\n",
       "      <th>customer_id</th>\n",
       "      <th></th>\n",
       "      <th></th>\n",
       "    </tr>\n",
       "  </thead>\n",
       "  <tbody>\n",
       "    <tr>\n",
       "      <th>5.94687E+23</th>\n",
       "      <td>2</td>\n",
       "      <td>9</td>\n",
       "    </tr>\n",
       "    <tr>\n",
       "      <th>5.94772E+23</th>\n",
       "      <td>1</td>\n",
       "      <td>64</td>\n",
       "    </tr>\n",
       "    <tr>\n",
       "      <th>5.94773E+23</th>\n",
       "      <td>5</td>\n",
       "      <td>9</td>\n",
       "    </tr>\n",
       "    <tr>\n",
       "      <th>5.95E+25</th>\n",
       "      <td>1</td>\n",
       "      <td>5</td>\n",
       "    </tr>\n",
       "    <tr>\n",
       "      <th>58a4b0e452faff000179dbd0</th>\n",
       "      <td>7</td>\n",
       "      <td>7</td>\n",
       "    </tr>\n",
       "    <tr>\n",
       "      <th>...</th>\n",
       "      <td>...</td>\n",
       "      <td>...</td>\n",
       "    </tr>\n",
       "    <tr>\n",
       "      <th>5d3584f8b2cf38d2d17aafba</th>\n",
       "      <td>1</td>\n",
       "      <td>1</td>\n",
       "    </tr>\n",
       "    <tr>\n",
       "      <th>5d359600b2cf38d2d17ac0e7</th>\n",
       "      <td>1</td>\n",
       "      <td>1</td>\n",
       "    </tr>\n",
       "    <tr>\n",
       "      <th>5d35a06bb2cf38d2d17acbc3</th>\n",
       "      <td>1</td>\n",
       "      <td>1</td>\n",
       "    </tr>\n",
       "    <tr>\n",
       "      <th>5d35ae07b2cf38d2d17adb54</th>\n",
       "      <td>1</td>\n",
       "      <td>1</td>\n",
       "    </tr>\n",
       "    <tr>\n",
       "      <th>5d35cf29b2cf38d2d17afcda</th>\n",
       "      <td>1</td>\n",
       "      <td>1</td>\n",
       "    </tr>\n",
       "  </tbody>\n",
       "</table>\n",
       "<p>14964 rows × 2 columns</p>\n",
       "</div>"
      ],
      "text/plain": [
       "                          freq  recency\n",
       "customer_id                            \n",
       "5.94687E+23                  2        9\n",
       "5.94772E+23                  1       64\n",
       "5.94773E+23                  5        9\n",
       "5.95E+25                     1        5\n",
       "58a4b0e452faff000179dbd0     7        7\n",
       "...                        ...      ...\n",
       "5d3584f8b2cf38d2d17aafba     1        1\n",
       "5d359600b2cf38d2d17ac0e7     1        1\n",
       "5d35a06bb2cf38d2d17acbc3     1        1\n",
       "5d35ae07b2cf38d2d17adb54     1        1\n",
       "5d35cf29b2cf38d2d17afcda     1        1\n",
       "\n",
       "[14964 rows x 2 columns]"
      ]
     },
     "execution_count": 28,
     "metadata": {},
     "output_type": "execute_result"
    }
   ],
   "source": [
    "df = customer_f.merge(customer_r, left_index = True, right_index = True)\n",
    "df"
   ]
  },
  {
   "cell_type": "code",
   "execution_count": 29,
   "metadata": {},
   "outputs": [],
   "source": [
    "rfm_customer = df.merge(customer_m, left_index = True, right_index = True)"
   ]
  },
  {
   "cell_type": "code",
   "execution_count": 30,
   "metadata": {},
   "outputs": [
    {
     "data": {
      "text/html": [
       "<div>\n",
       "<style scoped>\n",
       "    .dataframe tbody tr th:only-of-type {\n",
       "        vertical-align: middle;\n",
       "    }\n",
       "\n",
       "    .dataframe tbody tr th {\n",
       "        vertical-align: top;\n",
       "    }\n",
       "\n",
       "    .dataframe thead th {\n",
       "        text-align: right;\n",
       "    }\n",
       "</style>\n",
       "<table border=\"1\" class=\"dataframe\">\n",
       "  <thead>\n",
       "    <tr style=\"text-align: right;\">\n",
       "      <th></th>\n",
       "      <th>freq</th>\n",
       "      <th>recency</th>\n",
       "      <th>monetary</th>\n",
       "    </tr>\n",
       "    <tr>\n",
       "      <th>customer_id</th>\n",
       "      <th></th>\n",
       "      <th></th>\n",
       "      <th></th>\n",
       "    </tr>\n",
       "  </thead>\n",
       "  <tbody>\n",
       "    <tr>\n",
       "      <th>5.94687E+23</th>\n",
       "      <td>2</td>\n",
       "      <td>9</td>\n",
       "      <td>680000.0</td>\n",
       "    </tr>\n",
       "    <tr>\n",
       "      <th>5.94772E+23</th>\n",
       "      <td>1</td>\n",
       "      <td>64</td>\n",
       "      <td>600000.0</td>\n",
       "    </tr>\n",
       "    <tr>\n",
       "      <th>5.94773E+23</th>\n",
       "      <td>5</td>\n",
       "      <td>9</td>\n",
       "      <td>1700000.0</td>\n",
       "    </tr>\n",
       "    <tr>\n",
       "      <th>5.95E+25</th>\n",
       "      <td>1</td>\n",
       "      <td>5</td>\n",
       "      <td>320000.0</td>\n",
       "    </tr>\n",
       "    <tr>\n",
       "      <th>58a4b0e452faff000179dbd0</th>\n",
       "      <td>7</td>\n",
       "      <td>7</td>\n",
       "      <td>1480000.0</td>\n",
       "    </tr>\n",
       "    <tr>\n",
       "      <th>...</th>\n",
       "      <td>...</td>\n",
       "      <td>...</td>\n",
       "      <td>...</td>\n",
       "    </tr>\n",
       "    <tr>\n",
       "      <th>5d3584f8b2cf38d2d17aafba</th>\n",
       "      <td>1</td>\n",
       "      <td>1</td>\n",
       "      <td>200000.0</td>\n",
       "    </tr>\n",
       "    <tr>\n",
       "      <th>5d359600b2cf38d2d17ac0e7</th>\n",
       "      <td>1</td>\n",
       "      <td>1</td>\n",
       "      <td>520000.0</td>\n",
       "    </tr>\n",
       "    <tr>\n",
       "      <th>5d35a06bb2cf38d2d17acbc3</th>\n",
       "      <td>1</td>\n",
       "      <td>1</td>\n",
       "      <td>440000.0</td>\n",
       "    </tr>\n",
       "    <tr>\n",
       "      <th>5d35ae07b2cf38d2d17adb54</th>\n",
       "      <td>1</td>\n",
       "      <td>1</td>\n",
       "      <td>200000.0</td>\n",
       "    </tr>\n",
       "    <tr>\n",
       "      <th>5d35cf29b2cf38d2d17afcda</th>\n",
       "      <td>1</td>\n",
       "      <td>1</td>\n",
       "      <td>420000.0</td>\n",
       "    </tr>\n",
       "  </tbody>\n",
       "</table>\n",
       "<p>14964 rows × 3 columns</p>\n",
       "</div>"
      ],
      "text/plain": [
       "                          freq  recency   monetary\n",
       "customer_id                                       \n",
       "5.94687E+23                  2        9   680000.0\n",
       "5.94772E+23                  1       64   600000.0\n",
       "5.94773E+23                  5        9  1700000.0\n",
       "5.95E+25                     1        5   320000.0\n",
       "58a4b0e452faff000179dbd0     7        7  1480000.0\n",
       "...                        ...      ...        ...\n",
       "5d3584f8b2cf38d2d17aafba     1        1   200000.0\n",
       "5d359600b2cf38d2d17ac0e7     1        1   520000.0\n",
       "5d35a06bb2cf38d2d17acbc3     1        1   440000.0\n",
       "5d35ae07b2cf38d2d17adb54     1        1   200000.0\n",
       "5d35cf29b2cf38d2d17afcda     1        1   420000.0\n",
       "\n",
       "[14964 rows x 3 columns]"
      ]
     },
     "execution_count": 30,
     "metadata": {},
     "output_type": "execute_result"
    }
   ],
   "source": [
    "rfm_customer"
   ]
  },
  {
   "cell_type": "markdown",
   "metadata": {},
   "source": [
    "## Clustering"
   ]
  },
  {
   "cell_type": "code",
   "execution_count": 31,
   "metadata": {},
   "outputs": [
    {
     "data": {
      "text/plain": [
       "<matplotlib.collections.PathCollection at 0x1c612734dc8>"
      ]
     },
     "execution_count": 31,
     "metadata": {},
     "output_type": "execute_result"
    },
    {
     "data": {
      "image/png": "[encoded data removed]",
      "text/plain": [
       "<Figure size 432x288 with 1 Axes>"
      ]
     },
     "metadata": {
      "needs_background": "light"
     },
     "output_type": "display_data"
    }
   ],
   "source": [
    "plt.scatter(x = rfm_customer['freq'], y = rfm_customer['recency'], alpha = 0.3)"
   ]
  },
  {
   "cell_type": "code",
   "execution_count": 32,
   "metadata": {},
   "outputs": [
    {
     "data": {
      "text/plain": [
       "<matplotlib.collections.PathCollection at 0x1c612786588>"
      ]
     },
     "execution_count": 32,
     "metadata": {},
     "output_type": "execute_result"
    },
    {
     "data": {
      "image/png": "[encoded data removed]",
      "text/plain": [
       "<Figure size 432x288 with 1 Axes>"
      ]
     },
     "metadata": {
      "needs_background": "light"
     },
     "output_type": "display_data"
    }
   ],
   "source": [
    "plt.scatter(x = rfm_customer['freq'], y = rfm_customer['monetary'], alpha = 0.3)"
   ]
  },
  {
   "cell_type": "code",
   "execution_count": 33,
   "metadata": {},
   "outputs": [
    {
     "data": {
      "text/html": [
       "<div>\n",
       "<style scoped>\n",
       "    .dataframe tbody tr th:only-of-type {\n",
       "        vertical-align: middle;\n",
       "    }\n",
       "\n",
       "    .dataframe tbody tr th {\n",
       "        vertical-align: top;\n",
       "    }\n",
       "\n",
       "    .dataframe thead th {\n",
       "        text-align: right;\n",
       "    }\n",
       "</style>\n",
       "<table border=\"1\" class=\"dataframe\">\n",
       "  <thead>\n",
       "    <tr style=\"text-align: right;\">\n",
       "      <th></th>\n",
       "      <th>freq</th>\n",
       "      <th>monetary</th>\n",
       "    </tr>\n",
       "  </thead>\n",
       "  <tbody>\n",
       "    <tr>\n",
       "      <th>freq</th>\n",
       "      <td>1.000000</td>\n",
       "      <td>0.947786</td>\n",
       "    </tr>\n",
       "    <tr>\n",
       "      <th>monetary</th>\n",
       "      <td>0.947786</td>\n",
       "      <td>1.000000</td>\n",
       "    </tr>\n",
       "  </tbody>\n",
       "</table>\n",
       "</div>"
      ],
      "text/plain": [
       "              freq  monetary\n",
       "freq      1.000000  0.947786\n",
       "monetary  0.947786  1.000000"
      ]
     },
     "execution_count": 33,
     "metadata": {},
     "output_type": "execute_result"
    }
   ],
   "source": [
    "rfm_customer[['freq', 'monetary']].corr(method = 'pearson')"
   ]
  },
  {
   "cell_type": "code",
   "execution_count": 34,
   "metadata": {},
   "outputs": [],
   "source": [
    "rfm_customer_2 = rfm_customer.loc[:, ['freq', 'recency']]"
   ]
  },
  {
   "cell_type": "code",
   "execution_count": 35,
   "metadata": {},
   "outputs": [
    {
     "data": {
      "text/html": [
       "<div>\n",
       "<style scoped>\n",
       "    .dataframe tbody tr th:only-of-type {\n",
       "        vertical-align: middle;\n",
       "    }\n",
       "\n",
       "    .dataframe tbody tr th {\n",
       "        vertical-align: top;\n",
       "    }\n",
       "\n",
       "    .dataframe thead th {\n",
       "        text-align: right;\n",
       "    }\n",
       "</style>\n",
       "<table border=\"1\" class=\"dataframe\">\n",
       "  <thead>\n",
       "    <tr style=\"text-align: right;\">\n",
       "      <th></th>\n",
       "      <th>freq</th>\n",
       "      <th>recency</th>\n",
       "    </tr>\n",
       "    <tr>\n",
       "      <th>customer_id</th>\n",
       "      <th></th>\n",
       "      <th></th>\n",
       "    </tr>\n",
       "  </thead>\n",
       "  <tbody>\n",
       "    <tr>\n",
       "      <th>5.94687E+23</th>\n",
       "      <td>2</td>\n",
       "      <td>9</td>\n",
       "    </tr>\n",
       "    <tr>\n",
       "      <th>5.94772E+23</th>\n",
       "      <td>1</td>\n",
       "      <td>64</td>\n",
       "    </tr>\n",
       "    <tr>\n",
       "      <th>5.94773E+23</th>\n",
       "      <td>5</td>\n",
       "      <td>9</td>\n",
       "    </tr>\n",
       "    <tr>\n",
       "      <th>5.95E+25</th>\n",
       "      <td>1</td>\n",
       "      <td>5</td>\n",
       "    </tr>\n",
       "    <tr>\n",
       "      <th>58a4b0e452faff000179dbd0</th>\n",
       "      <td>7</td>\n",
       "      <td>7</td>\n",
       "    </tr>\n",
       "    <tr>\n",
       "      <th>...</th>\n",
       "      <td>...</td>\n",
       "      <td>...</td>\n",
       "    </tr>\n",
       "    <tr>\n",
       "      <th>5d3584f8b2cf38d2d17aafba</th>\n",
       "      <td>1</td>\n",
       "      <td>1</td>\n",
       "    </tr>\n",
       "    <tr>\n",
       "      <th>5d359600b2cf38d2d17ac0e7</th>\n",
       "      <td>1</td>\n",
       "      <td>1</td>\n",
       "    </tr>\n",
       "    <tr>\n",
       "      <th>5d35a06bb2cf38d2d17acbc3</th>\n",
       "      <td>1</td>\n",
       "      <td>1</td>\n",
       "    </tr>\n",
       "    <tr>\n",
       "      <th>5d35ae07b2cf38d2d17adb54</th>\n",
       "      <td>1</td>\n",
       "      <td>1</td>\n",
       "    </tr>\n",
       "    <tr>\n",
       "      <th>5d35cf29b2cf38d2d17afcda</th>\n",
       "      <td>1</td>\n",
       "      <td>1</td>\n",
       "    </tr>\n",
       "  </tbody>\n",
       "</table>\n",
       "<p>14964 rows × 2 columns</p>\n",
       "</div>"
      ],
      "text/plain": [
       "                          freq  recency\n",
       "customer_id                            \n",
       "5.94687E+23                  2        9\n",
       "5.94772E+23                  1       64\n",
       "5.94773E+23                  5        9\n",
       "5.95E+25                     1        5\n",
       "58a4b0e452faff000179dbd0     7        7\n",
       "...                        ...      ...\n",
       "5d3584f8b2cf38d2d17aafba     1        1\n",
       "5d359600b2cf38d2d17ac0e7     1        1\n",
       "5d35a06bb2cf38d2d17acbc3     1        1\n",
       "5d35ae07b2cf38d2d17adb54     1        1\n",
       "5d35cf29b2cf38d2d17afcda     1        1\n",
       "\n",
       "[14964 rows x 2 columns]"
      ]
     },
     "execution_count": 35,
     "metadata": {},
     "output_type": "execute_result"
    }
   ],
   "source": [
    "rfm_customer_2"
   ]
  },
  {
   "cell_type": "code",
   "execution_count": 40,
   "metadata": {},
   "outputs": [],
   "source": [
    "#Scale features\n",
    "from sklearn.preprocessing import StandardScaler"
   ]
  },
  {
   "cell_type": "code",
   "execution_count": 41,
   "metadata": {},
   "outputs": [
    {
     "data": {
      "text/plain": [
       "array([[-0.20698004, -0.69726072],\n",
       "       [-0.49892549,  1.08659584],\n",
       "       [ 0.66885632, -0.69726072],\n",
       "       ...,\n",
       "       [-0.49892549, -0.95673077],\n",
       "       [-0.49892549, -0.95673077],\n",
       "       [-0.49892549, -0.95673077]])"
      ]
     },
     "execution_count": 41,
     "metadata": {},
     "output_type": "execute_result"
    }
   ],
   "source": [
    "scaled_data = StandardScaler().fit_transform(rfm_customer_2)\n",
    "scaled_data"
   ]
  },
  {
   "cell_type": "code",
   "execution_count": 42,
   "metadata": {},
   "outputs": [
    {
     "data": {
      "text/html": [
       "<div>\n",
       "<style scoped>\n",
       "    .dataframe tbody tr th:only-of-type {\n",
       "        vertical-align: middle;\n",
       "    }\n",
       "\n",
       "    .dataframe tbody tr th {\n",
       "        vertical-align: top;\n",
       "    }\n",
       "\n",
       "    .dataframe thead th {\n",
       "        text-align: right;\n",
       "    }\n",
       "</style>\n",
       "<table border=\"1\" class=\"dataframe\">\n",
       "  <thead>\n",
       "    <tr style=\"text-align: right;\">\n",
       "      <th></th>\n",
       "      <th>freq</th>\n",
       "      <th>recency</th>\n",
       "    </tr>\n",
       "    <tr>\n",
       "      <th>customer_id</th>\n",
       "      <th></th>\n",
       "      <th></th>\n",
       "    </tr>\n",
       "  </thead>\n",
       "  <tbody>\n",
       "    <tr>\n",
       "      <th>5.94687E+23</th>\n",
       "      <td>-0.206980</td>\n",
       "      <td>-0.697261</td>\n",
       "    </tr>\n",
       "    <tr>\n",
       "      <th>5.94772E+23</th>\n",
       "      <td>-0.498925</td>\n",
       "      <td>1.086596</td>\n",
       "    </tr>\n",
       "    <tr>\n",
       "      <th>5.94773E+23</th>\n",
       "      <td>0.668856</td>\n",
       "      <td>-0.697261</td>\n",
       "    </tr>\n",
       "    <tr>\n",
       "      <th>5.95E+25</th>\n",
       "      <td>-0.498925</td>\n",
       "      <td>-0.826996</td>\n",
       "    </tr>\n",
       "    <tr>\n",
       "      <th>58a4b0e452faff000179dbd0</th>\n",
       "      <td>1.252747</td>\n",
       "      <td>-0.762128</td>\n",
       "    </tr>\n",
       "    <tr>\n",
       "      <th>...</th>\n",
       "      <td>...</td>\n",
       "      <td>...</td>\n",
       "    </tr>\n",
       "    <tr>\n",
       "      <th>5d3584f8b2cf38d2d17aafba</th>\n",
       "      <td>-0.498925</td>\n",
       "      <td>-0.956731</td>\n",
       "    </tr>\n",
       "    <tr>\n",
       "      <th>5d359600b2cf38d2d17ac0e7</th>\n",
       "      <td>-0.498925</td>\n",
       "      <td>-0.956731</td>\n",
       "    </tr>\n",
       "    <tr>\n",
       "      <th>5d35a06bb2cf38d2d17acbc3</th>\n",
       "      <td>-0.498925</td>\n",
       "      <td>-0.956731</td>\n",
       "    </tr>\n",
       "    <tr>\n",
       "      <th>5d35ae07b2cf38d2d17adb54</th>\n",
       "      <td>-0.498925</td>\n",
       "      <td>-0.956731</td>\n",
       "    </tr>\n",
       "    <tr>\n",
       "      <th>5d35cf29b2cf38d2d17afcda</th>\n",
       "      <td>-0.498925</td>\n",
       "      <td>-0.956731</td>\n",
       "    </tr>\n",
       "  </tbody>\n",
       "</table>\n",
       "<p>14964 rows × 2 columns</p>\n",
       "</div>"
      ],
      "text/plain": [
       "                              freq   recency\n",
       "customer_id                                 \n",
       "5.94687E+23              -0.206980 -0.697261\n",
       "5.94772E+23              -0.498925  1.086596\n",
       "5.94773E+23               0.668856 -0.697261\n",
       "5.95E+25                 -0.498925 -0.826996\n",
       "58a4b0e452faff000179dbd0  1.252747 -0.762128\n",
       "...                            ...       ...\n",
       "5d3584f8b2cf38d2d17aafba -0.498925 -0.956731\n",
       "5d359600b2cf38d2d17ac0e7 -0.498925 -0.956731\n",
       "5d35a06bb2cf38d2d17acbc3 -0.498925 -0.956731\n",
       "5d35ae07b2cf38d2d17adb54 -0.498925 -0.956731\n",
       "5d35cf29b2cf38d2d17afcda -0.498925 -0.956731\n",
       "\n",
       "[14964 rows x 2 columns]"
      ]
     },
     "execution_count": 42,
     "metadata": {},
     "output_type": "execute_result"
    }
   ],
   "source": [
    "scaled_data = pd.DataFrame(scaled_data, \n",
    "                           columns = rfm_customer_2.columns, \n",
    "                           index = rfm_customer_2.index)\n",
    "\n",
    "scaled_data"
   ]
  },
  {
   "cell_type": "markdown",
   "metadata": {},
   "source": [
    "### K-means Clustering"
   ]
  },
  {
   "cell_type": "code",
   "execution_count": 43,
   "metadata": {},
   "outputs": [],
   "source": [
    "#First try\n",
    "from sklearn.cluster import KMeans\n",
    "seg_km1 = KMeans(n_clusters = 5, init = 'random', random_state = 123, n_init = 1).fit(scaled_data)"
   ]
  },
  {
   "cell_type": "code",
   "execution_count": 44,
   "metadata": {},
   "outputs": [
    {
     "data": {
      "text/html": [
       "<div>\n",
       "<style scoped>\n",
       "    .dataframe tbody tr th:only-of-type {\n",
       "        vertical-align: middle;\n",
       "    }\n",
       "\n",
       "    .dataframe tbody tr th {\n",
       "        vertical-align: top;\n",
       "    }\n",
       "\n",
       "    .dataframe thead th {\n",
       "        text-align: right;\n",
       "    }\n",
       "</style>\n",
       "<table border=\"1\" class=\"dataframe\">\n",
       "  <thead>\n",
       "    <tr style=\"text-align: right;\">\n",
       "      <th></th>\n",
       "      <th>freq</th>\n",
       "      <th>recency</th>\n",
       "      <th>monetary</th>\n",
       "      <th>seg_km1</th>\n",
       "    </tr>\n",
       "    <tr>\n",
       "      <th>customer_id</th>\n",
       "      <th></th>\n",
       "      <th></th>\n",
       "      <th></th>\n",
       "      <th></th>\n",
       "    </tr>\n",
       "  </thead>\n",
       "  <tbody>\n",
       "    <tr>\n",
       "      <th>5.94687E+23</th>\n",
       "      <td>2</td>\n",
       "      <td>9</td>\n",
       "      <td>680000.0</td>\n",
       "      <td>3</td>\n",
       "    </tr>\n",
       "    <tr>\n",
       "      <th>5.94772E+23</th>\n",
       "      <td>1</td>\n",
       "      <td>64</td>\n",
       "      <td>600000.0</td>\n",
       "      <td>0</td>\n",
       "    </tr>\n",
       "    <tr>\n",
       "      <th>5.94773E+23</th>\n",
       "      <td>5</td>\n",
       "      <td>9</td>\n",
       "      <td>1700000.0</td>\n",
       "      <td>1</td>\n",
       "    </tr>\n",
       "    <tr>\n",
       "      <th>5.95E+25</th>\n",
       "      <td>1</td>\n",
       "      <td>5</td>\n",
       "      <td>320000.0</td>\n",
       "      <td>3</td>\n",
       "    </tr>\n",
       "    <tr>\n",
       "      <th>58a4b0e452faff000179dbd0</th>\n",
       "      <td>7</td>\n",
       "      <td>7</td>\n",
       "      <td>1480000.0</td>\n",
       "      <td>1</td>\n",
       "    </tr>\n",
       "    <tr>\n",
       "      <th>...</th>\n",
       "      <td>...</td>\n",
       "      <td>...</td>\n",
       "      <td>...</td>\n",
       "      <td>...</td>\n",
       "    </tr>\n",
       "    <tr>\n",
       "      <th>5d3584f8b2cf38d2d17aafba</th>\n",
       "      <td>1</td>\n",
       "      <td>1</td>\n",
       "      <td>200000.0</td>\n",
       "      <td>3</td>\n",
       "    </tr>\n",
       "    <tr>\n",
       "      <th>5d359600b2cf38d2d17ac0e7</th>\n",
       "      <td>1</td>\n",
       "      <td>1</td>\n",
       "      <td>520000.0</td>\n",
       "      <td>3</td>\n",
       "    </tr>\n",
       "    <tr>\n",
       "      <th>5d35a06bb2cf38d2d17acbc3</th>\n",
       "      <td>1</td>\n",
       "      <td>1</td>\n",
       "      <td>440000.0</td>\n",
       "      <td>3</td>\n",
       "    </tr>\n",
       "    <tr>\n",
       "      <th>5d35ae07b2cf38d2d17adb54</th>\n",
       "      <td>1</td>\n",
       "      <td>1</td>\n",
       "      <td>200000.0</td>\n",
       "      <td>3</td>\n",
       "    </tr>\n",
       "    <tr>\n",
       "      <th>5d35cf29b2cf38d2d17afcda</th>\n",
       "      <td>1</td>\n",
       "      <td>1</td>\n",
       "      <td>420000.0</td>\n",
       "      <td>3</td>\n",
       "    </tr>\n",
       "  </tbody>\n",
       "</table>\n",
       "<p>14964 rows × 4 columns</p>\n",
       "</div>"
      ],
      "text/plain": [
       "                          freq  recency   monetary  seg_km1\n",
       "customer_id                                                \n",
       "5.94687E+23                  2        9   680000.0        3\n",
       "5.94772E+23                  1       64   600000.0        0\n",
       "5.94773E+23                  5        9  1700000.0        1\n",
       "5.95E+25                     1        5   320000.0        3\n",
       "58a4b0e452faff000179dbd0     7        7  1480000.0        1\n",
       "...                        ...      ...        ...      ...\n",
       "5d3584f8b2cf38d2d17aafba     1        1   200000.0        3\n",
       "5d359600b2cf38d2d17ac0e7     1        1   520000.0        3\n",
       "5d35a06bb2cf38d2d17acbc3     1        1   440000.0        3\n",
       "5d35ae07b2cf38d2d17adb54     1        1   200000.0        3\n",
       "5d35cf29b2cf38d2d17afcda     1        1   420000.0        3\n",
       "\n",
       "[14964 rows x 4 columns]"
      ]
     },
     "execution_count": 44,
     "metadata": {},
     "output_type": "execute_result"
    }
   ],
   "source": [
    "rfm_customer['seg_km1'] = seg_km1.predict(scaled_data)\n",
    "rfm_customer"
   ]
  },
  {
   "cell_type": "code",
   "execution_count": 45,
   "metadata": {},
   "outputs": [
    {
     "data": {
      "text/plain": [
       "0"
      ]
     },
     "execution_count": 45,
     "metadata": {},
     "output_type": "execute_result"
    }
   ],
   "source": [
    "rfm_customer['seg_km1'].isna().sum()"
   ]
  },
  {
   "cell_type": "code",
   "execution_count": 46,
   "metadata": {},
   "outputs": [
    {
     "data": {
      "text/html": [
       "<div>\n",
       "<style scoped>\n",
       "    .dataframe tbody tr th:only-of-type {\n",
       "        vertical-align: middle;\n",
       "    }\n",
       "\n",
       "    .dataframe tbody tr th {\n",
       "        vertical-align: top;\n",
       "    }\n",
       "\n",
       "    .dataframe thead th {\n",
       "        text-align: right;\n",
       "    }\n",
       "</style>\n",
       "<table border=\"1\" class=\"dataframe\">\n",
       "  <thead>\n",
       "    <tr style=\"text-align: right;\">\n",
       "      <th></th>\n",
       "      <th>freq</th>\n",
       "      <th>recency</th>\n",
       "      <th>monetary</th>\n",
       "    </tr>\n",
       "    <tr>\n",
       "      <th>seg_km1</th>\n",
       "      <th></th>\n",
       "      <th></th>\n",
       "      <th></th>\n",
       "    </tr>\n",
       "  </thead>\n",
       "  <tbody>\n",
       "    <tr>\n",
       "      <th>0</th>\n",
       "      <td>1.294577</td>\n",
       "      <td>88.131877</td>\n",
       "      <td>4.399220e+05</td>\n",
       "    </tr>\n",
       "    <tr>\n",
       "      <th>1</th>\n",
       "      <td>5.889978</td>\n",
       "      <td>10.173274</td>\n",
       "      <td>2.049149e+06</td>\n",
       "    </tr>\n",
       "    <tr>\n",
       "      <th>2</th>\n",
       "      <td>16.001795</td>\n",
       "      <td>9.861759</td>\n",
       "      <td>5.464201e+06</td>\n",
       "    </tr>\n",
       "    <tr>\n",
       "      <th>3</th>\n",
       "      <td>1.602254</td>\n",
       "      <td>9.825655</td>\n",
       "      <td>5.728174e+05</td>\n",
       "    </tr>\n",
       "    <tr>\n",
       "      <th>4</th>\n",
       "      <td>1.518934</td>\n",
       "      <td>40.075736</td>\n",
       "      <td>5.362132e+05</td>\n",
       "    </tr>\n",
       "  </tbody>\n",
       "</table>\n",
       "</div>"
      ],
      "text/plain": [
       "              freq    recency      monetary\n",
       "seg_km1                                    \n",
       "0         1.294577  88.131877  4.399220e+05\n",
       "1         5.889978  10.173274  2.049149e+06\n",
       "2        16.001795   9.861759  5.464201e+06\n",
       "3         1.602254   9.825655  5.728174e+05\n",
       "4         1.518934  40.075736  5.362132e+05"
      ]
     },
     "execution_count": 46,
     "metadata": {},
     "output_type": "execute_result"
    }
   ],
   "source": [
    "#Results\n",
    "rfm_customer.groupby(['seg_km1'])[['freq', 'recency', 'monetary']].mean()"
   ]
  },
  {
   "cell_type": "code",
   "execution_count": 47,
   "metadata": {},
   "outputs": [
    {
     "data": {
      "text/plain": [
       "Text(0, 0.5, 'recency')"
      ]
     },
     "execution_count": 47,
     "metadata": {},
     "output_type": "execute_result"
    },
    {
     "data": {
      "image/png": "[encoded data removed]",
      "text/plain": [
       "<Figure size 432x288 with 1 Axes>"
      ]
     },
     "metadata": {
      "needs_background": "light"
     },
     "output_type": "display_data"
    }
   ],
   "source": [
    "#Scatter Plot - First Try\n",
    "plt.scatter(x = rfm_customer['freq'], y = rfm_customer['recency'], \n",
    "            c = rfm_customer['seg_km1'], alpha = 0.3)\n",
    "plt.xlabel('freq')\n",
    "plt.ylabel('recency')"
   ]
  },
  {
   "cell_type": "code",
   "execution_count": 48,
   "metadata": {},
   "outputs": [],
   "source": [
    "#Second try\n",
    "from sklearn.cluster import KMeans\n",
    "seg_km2 = KMeans(n_clusters = 5, init = 'random', random_state = 1000, n_init = 1).fit(scaled_data)"
   ]
  },
  {
   "cell_type": "code",
   "execution_count": 49,
   "metadata": {},
   "outputs": [
    {
     "data": {
      "text/html": [
       "<div>\n",
       "<style scoped>\n",
       "    .dataframe tbody tr th:only-of-type {\n",
       "        vertical-align: middle;\n",
       "    }\n",
       "\n",
       "    .dataframe tbody tr th {\n",
       "        vertical-align: top;\n",
       "    }\n",
       "\n",
       "    .dataframe thead th {\n",
       "        text-align: right;\n",
       "    }\n",
       "</style>\n",
       "<table border=\"1\" class=\"dataframe\">\n",
       "  <thead>\n",
       "    <tr style=\"text-align: right;\">\n",
       "      <th></th>\n",
       "      <th>freq</th>\n",
       "      <th>recency</th>\n",
       "      <th>monetary</th>\n",
       "      <th>seg_km1</th>\n",
       "      <th>seg_km2</th>\n",
       "    </tr>\n",
       "    <tr>\n",
       "      <th>customer_id</th>\n",
       "      <th></th>\n",
       "      <th></th>\n",
       "      <th></th>\n",
       "      <th></th>\n",
       "      <th></th>\n",
       "    </tr>\n",
       "  </thead>\n",
       "  <tbody>\n",
       "    <tr>\n",
       "      <th>5.94687E+23</th>\n",
       "      <td>2</td>\n",
       "      <td>9</td>\n",
       "      <td>680000.0</td>\n",
       "      <td>3</td>\n",
       "      <td>2</td>\n",
       "    </tr>\n",
       "    <tr>\n",
       "      <th>5.94772E+23</th>\n",
       "      <td>1</td>\n",
       "      <td>64</td>\n",
       "      <td>600000.0</td>\n",
       "      <td>0</td>\n",
       "      <td>0</td>\n",
       "    </tr>\n",
       "    <tr>\n",
       "      <th>5.94773E+23</th>\n",
       "      <td>5</td>\n",
       "      <td>9</td>\n",
       "      <td>1700000.0</td>\n",
       "      <td>1</td>\n",
       "      <td>2</td>\n",
       "    </tr>\n",
       "    <tr>\n",
       "      <th>5.95E+25</th>\n",
       "      <td>1</td>\n",
       "      <td>5</td>\n",
       "      <td>320000.0</td>\n",
       "      <td>3</td>\n",
       "      <td>2</td>\n",
       "    </tr>\n",
       "    <tr>\n",
       "      <th>58a4b0e452faff000179dbd0</th>\n",
       "      <td>7</td>\n",
       "      <td>7</td>\n",
       "      <td>1480000.0</td>\n",
       "      <td>1</td>\n",
       "      <td>3</td>\n",
       "    </tr>\n",
       "    <tr>\n",
       "      <th>...</th>\n",
       "      <td>...</td>\n",
       "      <td>...</td>\n",
       "      <td>...</td>\n",
       "      <td>...</td>\n",
       "      <td>...</td>\n",
       "    </tr>\n",
       "    <tr>\n",
       "      <th>5d3584f8b2cf38d2d17aafba</th>\n",
       "      <td>1</td>\n",
       "      <td>1</td>\n",
       "      <td>200000.0</td>\n",
       "      <td>3</td>\n",
       "      <td>2</td>\n",
       "    </tr>\n",
       "    <tr>\n",
       "      <th>5d359600b2cf38d2d17ac0e7</th>\n",
       "      <td>1</td>\n",
       "      <td>1</td>\n",
       "      <td>520000.0</td>\n",
       "      <td>3</td>\n",
       "      <td>2</td>\n",
       "    </tr>\n",
       "    <tr>\n",
       "      <th>5d35a06bb2cf38d2d17acbc3</th>\n",
       "      <td>1</td>\n",
       "      <td>1</td>\n",
       "      <td>440000.0</td>\n",
       "      <td>3</td>\n",
       "      <td>2</td>\n",
       "    </tr>\n",
       "    <tr>\n",
       "      <th>5d35ae07b2cf38d2d17adb54</th>\n",
       "      <td>1</td>\n",
       "      <td>1</td>\n",
       "      <td>200000.0</td>\n",
       "      <td>3</td>\n",
       "      <td>2</td>\n",
       "    </tr>\n",
       "    <tr>\n",
       "      <th>5d35cf29b2cf38d2d17afcda</th>\n",
       "      <td>1</td>\n",
       "      <td>1</td>\n",
       "      <td>420000.0</td>\n",
       "      <td>3</td>\n",
       "      <td>2</td>\n",
       "    </tr>\n",
       "  </tbody>\n",
       "</table>\n",
       "<p>14964 rows × 5 columns</p>\n",
       "</div>"
      ],
      "text/plain": [
       "                          freq  recency   monetary  seg_km1  seg_km2\n",
       "customer_id                                                         \n",
       "5.94687E+23                  2        9   680000.0        3        2\n",
       "5.94772E+23                  1       64   600000.0        0        0\n",
       "5.94773E+23                  5        9  1700000.0        1        2\n",
       "5.95E+25                     1        5   320000.0        3        2\n",
       "58a4b0e452faff000179dbd0     7        7  1480000.0        1        3\n",
       "...                        ...      ...        ...      ...      ...\n",
       "5d3584f8b2cf38d2d17aafba     1        1   200000.0        3        2\n",
       "5d359600b2cf38d2d17ac0e7     1        1   520000.0        3        2\n",
       "5d35a06bb2cf38d2d17acbc3     1        1   440000.0        3        2\n",
       "5d35ae07b2cf38d2d17adb54     1        1   200000.0        3        2\n",
       "5d35cf29b2cf38d2d17afcda     1        1   420000.0        3        2\n",
       "\n",
       "[14964 rows x 5 columns]"
      ]
     },
     "execution_count": 49,
     "metadata": {},
     "output_type": "execute_result"
    }
   ],
   "source": [
    "rfm_customer['seg_km2'] = seg_km2.predict(scaled_data)\n",
    "rfm_customer"
   ]
  },
  {
   "cell_type": "code",
   "execution_count": 50,
   "metadata": {},
   "outputs": [
    {
     "data": {
      "text/html": [
       "<div>\n",
       "<style scoped>\n",
       "    .dataframe tbody tr th:only-of-type {\n",
       "        vertical-align: middle;\n",
       "    }\n",
       "\n",
       "    .dataframe tbody tr th {\n",
       "        vertical-align: top;\n",
       "    }\n",
       "\n",
       "    .dataframe thead th {\n",
       "        text-align: right;\n",
       "    }\n",
       "</style>\n",
       "<table border=\"1\" class=\"dataframe\">\n",
       "  <thead>\n",
       "    <tr style=\"text-align: right;\">\n",
       "      <th></th>\n",
       "      <th>freq</th>\n",
       "      <th>recency</th>\n",
       "      <th>monetary</th>\n",
       "    </tr>\n",
       "    <tr>\n",
       "      <th>seg_km2</th>\n",
       "      <th></th>\n",
       "      <th></th>\n",
       "      <th></th>\n",
       "    </tr>\n",
       "  </thead>\n",
       "  <tbody>\n",
       "    <tr>\n",
       "      <th>0</th>\n",
       "      <td>1.631972</td>\n",
       "      <td>63.046003</td>\n",
       "      <td>5.556757e+05</td>\n",
       "    </tr>\n",
       "    <tr>\n",
       "      <th>1</th>\n",
       "      <td>1.503109</td>\n",
       "      <td>31.003514</td>\n",
       "      <td>5.394539e+05</td>\n",
       "    </tr>\n",
       "    <tr>\n",
       "      <th>2</th>\n",
       "      <td>2.352606</td>\n",
       "      <td>7.952176</td>\n",
       "      <td>8.298693e+05</td>\n",
       "    </tr>\n",
       "    <tr>\n",
       "      <th>3</th>\n",
       "      <td>11.604085</td>\n",
       "      <td>9.745483</td>\n",
       "      <td>3.990825e+06</td>\n",
       "    </tr>\n",
       "    <tr>\n",
       "      <th>4</th>\n",
       "      <td>1.181714</td>\n",
       "      <td>95.962286</td>\n",
       "      <td>4.003886e+05</td>\n",
       "    </tr>\n",
       "  </tbody>\n",
       "</table>\n",
       "</div>"
      ],
      "text/plain": [
       "              freq    recency      monetary\n",
       "seg_km2                                    \n",
       "0         1.631972  63.046003  5.556757e+05\n",
       "1         1.503109  31.003514  5.394539e+05\n",
       "2         2.352606   7.952176  8.298693e+05\n",
       "3        11.604085   9.745483  3.990825e+06\n",
       "4         1.181714  95.962286  4.003886e+05"
      ]
     },
     "execution_count": 50,
     "metadata": {},
     "output_type": "execute_result"
    }
   ],
   "source": [
    "#Results\n",
    "rfm_customer.groupby(['seg_km2'])[['freq', 'recency', 'monetary']].mean()"
   ]
  },
  {
   "cell_type": "code",
   "execution_count": 51,
   "metadata": {},
   "outputs": [
    {
     "data": {
      "text/plain": [
       "Text(0, 0.5, 'recency')"
      ]
     },
     "execution_count": 51,
     "metadata": {},
     "output_type": "execute_result"
    },
    {
     "data": {
      "image/png": "[encoded data removed]",
      "text/plain": [
       "<Figure size 432x288 with 1 Axes>"
      ]
     },
     "metadata": {
      "needs_background": "light"
     },
     "output_type": "display_data"
    }
   ],
   "source": [
    "#Scatter Plot - Second Try\n",
    "plt.scatter(x = rfm_customer['freq'], y = rfm_customer['recency'], \n",
    "            c = rfm_customer['seg_km2'], alpha = 0.3)\n",
    "plt.xlabel('freq')\n",
    "plt.ylabel('recency')"
   ]
  },
  {
   "cell_type": "markdown",
   "metadata": {},
   "source": [
    "### K-means ++ "
   ]
  },
  {
   "cell_type": "code",
   "execution_count": 52,
   "metadata": {},
   "outputs": [],
   "source": [
    "#Kmeans ++\n",
    "#https://en.wikipedia.org/wiki/K-means%2B%2B"
   ]
  },
  {
   "cell_type": "code",
   "execution_count": 53,
   "metadata": {},
   "outputs": [],
   "source": [
    "#n_init: sets the number of initializations to perform. \n",
    "#The default behavior for the scikit-learn algorithm is to perform ten k-means runs and return the results of the one with the lowest SSE."
   ]
  },
  {
   "cell_type": "code",
   "execution_count": 54,
   "metadata": {},
   "outputs": [],
   "source": [
    "#First Try\n",
    "from sklearn.cluster import KMeans\n",
    "seg_km3 = KMeans(n_clusters = 5, init = 'k-means++', random_state = 1000, n_init = 15).fit(scaled_data)"
   ]
  },
  {
   "cell_type": "code",
   "execution_count": 55,
   "metadata": {},
   "outputs": [
    {
     "data": {
      "text/html": [
       "<div>\n",
       "<style scoped>\n",
       "    .dataframe tbody tr th:only-of-type {\n",
       "        vertical-align: middle;\n",
       "    }\n",
       "\n",
       "    .dataframe tbody tr th {\n",
       "        vertical-align: top;\n",
       "    }\n",
       "\n",
       "    .dataframe thead th {\n",
       "        text-align: right;\n",
       "    }\n",
       "</style>\n",
       "<table border=\"1\" class=\"dataframe\">\n",
       "  <thead>\n",
       "    <tr style=\"text-align: right;\">\n",
       "      <th></th>\n",
       "      <th>freq</th>\n",
       "      <th>recency</th>\n",
       "      <th>monetary</th>\n",
       "      <th>seg_km1</th>\n",
       "      <th>seg_km2</th>\n",
       "      <th>seg_km3</th>\n",
       "    </tr>\n",
       "    <tr>\n",
       "      <th>customer_id</th>\n",
       "      <th></th>\n",
       "      <th></th>\n",
       "      <th></th>\n",
       "      <th></th>\n",
       "      <th></th>\n",
       "      <th></th>\n",
       "    </tr>\n",
       "  </thead>\n",
       "  <tbody>\n",
       "    <tr>\n",
       "      <th>5.94687E+23</th>\n",
       "      <td>2</td>\n",
       "      <td>9</td>\n",
       "      <td>680000.0</td>\n",
       "      <td>3</td>\n",
       "      <td>2</td>\n",
       "      <td>1</td>\n",
       "    </tr>\n",
       "    <tr>\n",
       "      <th>5.94772E+23</th>\n",
       "      <td>1</td>\n",
       "      <td>64</td>\n",
       "      <td>600000.0</td>\n",
       "      <td>0</td>\n",
       "      <td>0</td>\n",
       "      <td>4</td>\n",
       "    </tr>\n",
       "    <tr>\n",
       "      <th>5.94773E+23</th>\n",
       "      <td>5</td>\n",
       "      <td>9</td>\n",
       "      <td>1700000.0</td>\n",
       "      <td>1</td>\n",
       "      <td>2</td>\n",
       "      <td>3</td>\n",
       "    </tr>\n",
       "    <tr>\n",
       "      <th>5.95E+25</th>\n",
       "      <td>1</td>\n",
       "      <td>5</td>\n",
       "      <td>320000.0</td>\n",
       "      <td>3</td>\n",
       "      <td>2</td>\n",
       "      <td>1</td>\n",
       "    </tr>\n",
       "    <tr>\n",
       "      <th>58a4b0e452faff000179dbd0</th>\n",
       "      <td>7</td>\n",
       "      <td>7</td>\n",
       "      <td>1480000.0</td>\n",
       "      <td>1</td>\n",
       "      <td>3</td>\n",
       "      <td>3</td>\n",
       "    </tr>\n",
       "    <tr>\n",
       "      <th>...</th>\n",
       "      <td>...</td>\n",
       "      <td>...</td>\n",
       "      <td>...</td>\n",
       "      <td>...</td>\n",
       "      <td>...</td>\n",
       "      <td>...</td>\n",
       "    </tr>\n",
       "    <tr>\n",
       "      <th>5d3584f8b2cf38d2d17aafba</th>\n",
       "      <td>1</td>\n",
       "      <td>1</td>\n",
       "      <td>200000.0</td>\n",
       "      <td>3</td>\n",
       "      <td>2</td>\n",
       "      <td>1</td>\n",
       "    </tr>\n",
       "    <tr>\n",
       "      <th>5d359600b2cf38d2d17ac0e7</th>\n",
       "      <td>1</td>\n",
       "      <td>1</td>\n",
       "      <td>520000.0</td>\n",
       "      <td>3</td>\n",
       "      <td>2</td>\n",
       "      <td>1</td>\n",
       "    </tr>\n",
       "    <tr>\n",
       "      <th>5d35a06bb2cf38d2d17acbc3</th>\n",
       "      <td>1</td>\n",
       "      <td>1</td>\n",
       "      <td>440000.0</td>\n",
       "      <td>3</td>\n",
       "      <td>2</td>\n",
       "      <td>1</td>\n",
       "    </tr>\n",
       "    <tr>\n",
       "      <th>5d35ae07b2cf38d2d17adb54</th>\n",
       "      <td>1</td>\n",
       "      <td>1</td>\n",
       "      <td>200000.0</td>\n",
       "      <td>3</td>\n",
       "      <td>2</td>\n",
       "      <td>1</td>\n",
       "    </tr>\n",
       "    <tr>\n",
       "      <th>5d35cf29b2cf38d2d17afcda</th>\n",
       "      <td>1</td>\n",
       "      <td>1</td>\n",
       "      <td>420000.0</td>\n",
       "      <td>3</td>\n",
       "      <td>2</td>\n",
       "      <td>1</td>\n",
       "    </tr>\n",
       "  </tbody>\n",
       "</table>\n",
       "<p>14964 rows × 6 columns</p>\n",
       "</div>"
      ],
      "text/plain": [
       "                          freq  recency   monetary  seg_km1  seg_km2  seg_km3\n",
       "customer_id                                                                  \n",
       "5.94687E+23                  2        9   680000.0        3        2        1\n",
       "5.94772E+23                  1       64   600000.0        0        0        4\n",
       "5.94773E+23                  5        9  1700000.0        1        2        3\n",
       "5.95E+25                     1        5   320000.0        3        2        1\n",
       "58a4b0e452faff000179dbd0     7        7  1480000.0        1        3        3\n",
       "...                        ...      ...        ...      ...      ...      ...\n",
       "5d3584f8b2cf38d2d17aafba     1        1   200000.0        3        2        1\n",
       "5d359600b2cf38d2d17ac0e7     1        1   520000.0        3        2        1\n",
       "5d35a06bb2cf38d2d17acbc3     1        1   440000.0        3        2        1\n",
       "5d35ae07b2cf38d2d17adb54     1        1   200000.0        3        2        1\n",
       "5d35cf29b2cf38d2d17afcda     1        1   420000.0        3        2        1\n",
       "\n",
       "[14964 rows x 6 columns]"
      ]
     },
     "execution_count": 55,
     "metadata": {},
     "output_type": "execute_result"
    }
   ],
   "source": [
    "rfm_customer['seg_km3'] = seg_km3.predict(scaled_data)\n",
    "rfm_customer"
   ]
  },
  {
   "cell_type": "code",
   "execution_count": 56,
   "metadata": {},
   "outputs": [
    {
     "data": {
      "text/html": [
       "<div>\n",
       "<style scoped>\n",
       "    .dataframe tbody tr th:only-of-type {\n",
       "        vertical-align: middle;\n",
       "    }\n",
       "\n",
       "    .dataframe tbody tr th {\n",
       "        vertical-align: top;\n",
       "    }\n",
       "\n",
       "    .dataframe thead th {\n",
       "        text-align: right;\n",
       "    }\n",
       "</style>\n",
       "<table border=\"1\" class=\"dataframe\">\n",
       "  <thead>\n",
       "    <tr style=\"text-align: right;\">\n",
       "      <th></th>\n",
       "      <th>freq</th>\n",
       "      <th>recency</th>\n",
       "      <th>monetary</th>\n",
       "    </tr>\n",
       "    <tr>\n",
       "      <th>seg_km3</th>\n",
       "      <th></th>\n",
       "      <th></th>\n",
       "      <th></th>\n",
       "    </tr>\n",
       "  </thead>\n",
       "  <tbody>\n",
       "    <tr>\n",
       "      <th>0</th>\n",
       "      <td>1.291134</td>\n",
       "      <td>88.687300</td>\n",
       "      <td>4.391454e+05</td>\n",
       "    </tr>\n",
       "    <tr>\n",
       "      <th>1</th>\n",
       "      <td>1.833882</td>\n",
       "      <td>9.707273</td>\n",
       "      <td>6.540527e+05</td>\n",
       "    </tr>\n",
       "    <tr>\n",
       "      <th>2</th>\n",
       "      <td>18.298387</td>\n",
       "      <td>10.056452</td>\n",
       "      <td>6.181882e+06</td>\n",
       "    </tr>\n",
       "    <tr>\n",
       "      <th>3</th>\n",
       "      <td>7.206186</td>\n",
       "      <td>10.252005</td>\n",
       "      <td>2.505670e+06</td>\n",
       "    </tr>\n",
       "    <tr>\n",
       "      <th>4</th>\n",
       "      <td>1.546721</td>\n",
       "      <td>40.380874</td>\n",
       "      <td>5.450383e+05</td>\n",
       "    </tr>\n",
       "  </tbody>\n",
       "</table>\n",
       "</div>"
      ],
      "text/plain": [
       "              freq    recency      monetary\n",
       "seg_km3                                    \n",
       "0         1.291134  88.687300  4.391454e+05\n",
       "1         1.833882   9.707273  6.540527e+05\n",
       "2        18.298387  10.056452  6.181882e+06\n",
       "3         7.206186  10.252005  2.505670e+06\n",
       "4         1.546721  40.380874  5.450383e+05"
      ]
     },
     "execution_count": 56,
     "metadata": {},
     "output_type": "execute_result"
    }
   ],
   "source": [
    "#Results\n",
    "rfm_customer.groupby(['seg_km3'])[['freq', 'recency', 'monetary']].mean()"
   ]
  },
  {
   "cell_type": "code",
   "execution_count": 57,
   "metadata": {},
   "outputs": [
    {
     "data": {
      "text/plain": [
       "Text(0, 0.5, 'recency')"
      ]
     },
     "execution_count": 57,
     "metadata": {},
     "output_type": "execute_result"
    },
    {
     "data": {
      "image/png": "[encoded data removed]",
      "text/plain": [
       "<Figure size 432x288 with 1 Axes>"
      ]
     },
     "metadata": {
      "needs_background": "light"
     },
     "output_type": "display_data"
    }
   ],
   "source": [
    "#Scatter Plot - First Try\n",
    "plt.scatter(x = rfm_customer['freq'], y = rfm_customer['recency'], \n",
    "            c = rfm_customer['seg_km3'], alpha = 0.3)\n",
    "plt.xlabel('freq')\n",
    "plt.ylabel('recency')"
   ]
  },
  {
   "cell_type": "code",
   "execution_count": 58,
   "metadata": {},
   "outputs": [],
   "source": [
    "#Second Try\n",
    "from sklearn.cluster import KMeans\n",
    "seg_km4 = KMeans(n_clusters = 5, init = 'k-means++', random_state = 1234, n_init = 15).fit(scaled_data)"
   ]
  },
  {
   "cell_type": "code",
   "execution_count": 59,
   "metadata": {},
   "outputs": [
    {
     "data": {
      "text/html": [
       "<div>\n",
       "<style scoped>\n",
       "    .dataframe tbody tr th:only-of-type {\n",
       "        vertical-align: middle;\n",
       "    }\n",
       "\n",
       "    .dataframe tbody tr th {\n",
       "        vertical-align: top;\n",
       "    }\n",
       "\n",
       "    .dataframe thead th {\n",
       "        text-align: right;\n",
       "    }\n",
       "</style>\n",
       "<table border=\"1\" class=\"dataframe\">\n",
       "  <thead>\n",
       "    <tr style=\"text-align: right;\">\n",
       "      <th></th>\n",
       "      <th>freq</th>\n",
       "      <th>recency</th>\n",
       "      <th>monetary</th>\n",
       "      <th>seg_km1</th>\n",
       "      <th>seg_km2</th>\n",
       "      <th>seg_km3</th>\n",
       "      <th>seg_km4</th>\n",
       "    </tr>\n",
       "    <tr>\n",
       "      <th>customer_id</th>\n",
       "      <th></th>\n",
       "      <th></th>\n",
       "      <th></th>\n",
       "      <th></th>\n",
       "      <th></th>\n",
       "      <th></th>\n",
       "      <th></th>\n",
       "    </tr>\n",
       "  </thead>\n",
       "  <tbody>\n",
       "    <tr>\n",
       "      <th>5.94687E+23</th>\n",
       "      <td>2</td>\n",
       "      <td>9</td>\n",
       "      <td>680000.0</td>\n",
       "      <td>3</td>\n",
       "      <td>2</td>\n",
       "      <td>1</td>\n",
       "      <td>4</td>\n",
       "    </tr>\n",
       "    <tr>\n",
       "      <th>5.94772E+23</th>\n",
       "      <td>1</td>\n",
       "      <td>64</td>\n",
       "      <td>600000.0</td>\n",
       "      <td>0</td>\n",
       "      <td>0</td>\n",
       "      <td>4</td>\n",
       "      <td>3</td>\n",
       "    </tr>\n",
       "    <tr>\n",
       "      <th>5.94773E+23</th>\n",
       "      <td>5</td>\n",
       "      <td>9</td>\n",
       "      <td>1700000.0</td>\n",
       "      <td>1</td>\n",
       "      <td>2</td>\n",
       "      <td>3</td>\n",
       "      <td>1</td>\n",
       "    </tr>\n",
       "    <tr>\n",
       "      <th>5.95E+25</th>\n",
       "      <td>1</td>\n",
       "      <td>5</td>\n",
       "      <td>320000.0</td>\n",
       "      <td>3</td>\n",
       "      <td>2</td>\n",
       "      <td>1</td>\n",
       "      <td>4</td>\n",
       "    </tr>\n",
       "    <tr>\n",
       "      <th>58a4b0e452faff000179dbd0</th>\n",
       "      <td>7</td>\n",
       "      <td>7</td>\n",
       "      <td>1480000.0</td>\n",
       "      <td>1</td>\n",
       "      <td>3</td>\n",
       "      <td>3</td>\n",
       "      <td>1</td>\n",
       "    </tr>\n",
       "    <tr>\n",
       "      <th>...</th>\n",
       "      <td>...</td>\n",
       "      <td>...</td>\n",
       "      <td>...</td>\n",
       "      <td>...</td>\n",
       "      <td>...</td>\n",
       "      <td>...</td>\n",
       "      <td>...</td>\n",
       "    </tr>\n",
       "    <tr>\n",
       "      <th>5d3584f8b2cf38d2d17aafba</th>\n",
       "      <td>1</td>\n",
       "      <td>1</td>\n",
       "      <td>200000.0</td>\n",
       "      <td>3</td>\n",
       "      <td>2</td>\n",
       "      <td>1</td>\n",
       "      <td>4</td>\n",
       "    </tr>\n",
       "    <tr>\n",
       "      <th>5d359600b2cf38d2d17ac0e7</th>\n",
       "      <td>1</td>\n",
       "      <td>1</td>\n",
       "      <td>520000.0</td>\n",
       "      <td>3</td>\n",
       "      <td>2</td>\n",
       "      <td>1</td>\n",
       "      <td>4</td>\n",
       "    </tr>\n",
       "    <tr>\n",
       "      <th>5d35a06bb2cf38d2d17acbc3</th>\n",
       "      <td>1</td>\n",
       "      <td>1</td>\n",
       "      <td>440000.0</td>\n",
       "      <td>3</td>\n",
       "      <td>2</td>\n",
       "      <td>1</td>\n",
       "      <td>4</td>\n",
       "    </tr>\n",
       "    <tr>\n",
       "      <th>5d35ae07b2cf38d2d17adb54</th>\n",
       "      <td>1</td>\n",
       "      <td>1</td>\n",
       "      <td>200000.0</td>\n",
       "      <td>3</td>\n",
       "      <td>2</td>\n",
       "      <td>1</td>\n",
       "      <td>4</td>\n",
       "    </tr>\n",
       "    <tr>\n",
       "      <th>5d35cf29b2cf38d2d17afcda</th>\n",
       "      <td>1</td>\n",
       "      <td>1</td>\n",
       "      <td>420000.0</td>\n",
       "      <td>3</td>\n",
       "      <td>2</td>\n",
       "      <td>1</td>\n",
       "      <td>4</td>\n",
       "    </tr>\n",
       "  </tbody>\n",
       "</table>\n",
       "<p>14964 rows × 7 columns</p>\n",
       "</div>"
      ],
      "text/plain": [
       "                          freq  recency   monetary  seg_km1  seg_km2  seg_km3  \\\n",
       "customer_id                                                                     \n",
       "5.94687E+23                  2        9   680000.0        3        2        1   \n",
       "5.94772E+23                  1       64   600000.0        0        0        4   \n",
       "5.94773E+23                  5        9  1700000.0        1        2        3   \n",
       "5.95E+25                     1        5   320000.0        3        2        1   \n",
       "58a4b0e452faff000179dbd0     7        7  1480000.0        1        3        3   \n",
       "...                        ...      ...        ...      ...      ...      ...   \n",
       "5d3584f8b2cf38d2d17aafba     1        1   200000.0        3        2        1   \n",
       "5d359600b2cf38d2d17ac0e7     1        1   520000.0        3        2        1   \n",
       "5d35a06bb2cf38d2d17acbc3     1        1   440000.0        3        2        1   \n",
       "5d35ae07b2cf38d2d17adb54     1        1   200000.0        3        2        1   \n",
       "5d35cf29b2cf38d2d17afcda     1        1   420000.0        3        2        1   \n",
       "\n",
       "                          seg_km4  \n",
       "customer_id                        \n",
       "5.94687E+23                     4  \n",
       "5.94772E+23                     3  \n",
       "5.94773E+23                     1  \n",
       "5.95E+25                        4  \n",
       "58a4b0e452faff000179dbd0        1  \n",
       "...                           ...  \n",
       "5d3584f8b2cf38d2d17aafba        4  \n",
       "5d359600b2cf38d2d17ac0e7        4  \n",
       "5d35a06bb2cf38d2d17acbc3        4  \n",
       "5d35ae07b2cf38d2d17adb54        4  \n",
       "5d35cf29b2cf38d2d17afcda        4  \n",
       "\n",
       "[14964 rows x 7 columns]"
      ]
     },
     "execution_count": 59,
     "metadata": {},
     "output_type": "execute_result"
    }
   ],
   "source": [
    "rfm_customer['seg_km4'] = seg_km4.predict(scaled_data)\n",
    "rfm_customer"
   ]
  },
  {
   "cell_type": "code",
   "execution_count": 60,
   "metadata": {},
   "outputs": [
    {
     "data": {
      "text/html": [
       "<div>\n",
       "<style scoped>\n",
       "    .dataframe tbody tr th:only-of-type {\n",
       "        vertical-align: middle;\n",
       "    }\n",
       "\n",
       "    .dataframe tbody tr th {\n",
       "        vertical-align: top;\n",
       "    }\n",
       "\n",
       "    .dataframe thead th {\n",
       "        text-align: right;\n",
       "    }\n",
       "</style>\n",
       "<table border=\"1\" class=\"dataframe\">\n",
       "  <thead>\n",
       "    <tr style=\"text-align: right;\">\n",
       "      <th></th>\n",
       "      <th>freq</th>\n",
       "      <th>recency</th>\n",
       "      <th>monetary</th>\n",
       "    </tr>\n",
       "    <tr>\n",
       "      <th>seg_km4</th>\n",
       "      <th></th>\n",
       "      <th></th>\n",
       "      <th></th>\n",
       "    </tr>\n",
       "  </thead>\n",
       "  <tbody>\n",
       "    <tr>\n",
       "      <th>0</th>\n",
       "      <td>1.556510</td>\n",
       "      <td>39.990028</td>\n",
       "      <td>5.488255e+05</td>\n",
       "    </tr>\n",
       "    <tr>\n",
       "      <th>1</th>\n",
       "      <td>7.206186</td>\n",
       "      <td>10.252005</td>\n",
       "      <td>2.505670e+06</td>\n",
       "    </tr>\n",
       "    <tr>\n",
       "      <th>2</th>\n",
       "      <td>18.298387</td>\n",
       "      <td>10.056452</td>\n",
       "      <td>6.181882e+06</td>\n",
       "    </tr>\n",
       "    <tr>\n",
       "      <th>3</th>\n",
       "      <td>1.286328</td>\n",
       "      <td>88.148047</td>\n",
       "      <td>4.372031e+05</td>\n",
       "    </tr>\n",
       "    <tr>\n",
       "      <th>4</th>\n",
       "      <td>1.832834</td>\n",
       "      <td>9.692630</td>\n",
       "      <td>6.537358e+05</td>\n",
       "    </tr>\n",
       "  </tbody>\n",
       "</table>\n",
       "</div>"
      ],
      "text/plain": [
       "              freq    recency      monetary\n",
       "seg_km4                                    \n",
       "0         1.556510  39.990028  5.488255e+05\n",
       "1         7.206186  10.252005  2.505670e+06\n",
       "2        18.298387  10.056452  6.181882e+06\n",
       "3         1.286328  88.148047  4.372031e+05\n",
       "4         1.832834   9.692630  6.537358e+05"
      ]
     },
     "execution_count": 60,
     "metadata": {},
     "output_type": "execute_result"
    }
   ],
   "source": [
    "#Results\n",
    "rfm_customer.groupby(['seg_km4'])[['freq', 'recency', 'monetary']].mean()"
   ]
  },
  {
   "cell_type": "code",
   "execution_count": 61,
   "metadata": {},
   "outputs": [
    {
     "data": {
      "text/plain": [
       "Text(0, 0.5, 'recency')"
      ]
     },
     "execution_count": 61,
     "metadata": {},
     "output_type": "execute_result"
    },
    {
     "data": {
      "image/png": "[encoded data removed]",
      "text/plain": [
       "<Figure size 432x288 with 1 Axes>"
      ]
     },
     "metadata": {
      "needs_background": "light"
     },
     "output_type": "display_data"
    }
   ],
   "source": [
    "#Scatter Plot - Second Try\n",
    "plt.scatter(x = rfm_customer['freq'], y = rfm_customer['recency'], \n",
    "            c = rfm_customer['seg_km4'], alpha = 0.3)\n",
    "plt.xlabel('freq')\n",
    "plt.ylabel('recency')"
   ]
  },
  {
   "cell_type": "markdown",
   "metadata": {},
   "source": [
    "## Optimal Number of Clusters"
   ]
  },
  {
   "cell_type": "markdown",
   "metadata": {},
   "source": [
    "### The Elbow Method "
   ]
  },
  {
   "cell_type": "code",
   "execution_count": 62,
   "metadata": {},
   "outputs": [],
   "source": [
    "sse = []\n",
    "for k in range(1, 11):\n",
    "    kmeans = KMeans(n_clusters = k, init = 'k-means++', random_state = 1234, n_init = 10)\n",
    "    kmeans.fit(scaled_data)\n",
    "    sse.append(kmeans.inertia_)"
   ]
  },
  {
   "cell_type": "code",
   "execution_count": 63,
   "metadata": {},
   "outputs": [
    {
     "data": {
      "image/png": "[encoded data removed]",
      "text/plain": [
       "<Figure size 432x288 with 1 Axes>"
      ]
     },
     "metadata": {
      "needs_background": "light"
     },
     "output_type": "display_data"
    }
   ],
   "source": [
    "plt.plot(range(1, 11), sse)\n",
    "plt.xticks(range(1, 11))\n",
    "plt.xlabel(\"Number of Clusters\")\n",
    "plt.ylabel(\"SSE\")\n",
    "plt.show()"
   ]
  },
  {
   "cell_type": "markdown",
   "metadata": {},
   "source": [
    "### Silhouette Coefficient"
   ]
  },
  {
   "cell_type": "code",
   "execution_count": 64,
   "metadata": {},
   "outputs": [],
   "source": [
    "from sklearn.metrics import silhouette_score"
   ]
  },
  {
   "cell_type": "code",
   "execution_count": 65,
   "metadata": {},
   "outputs": [],
   "source": [
    "silhouette_coefficients = []\n",
    "for k in range(2, 11):\n",
    "    kmeans = KMeans(n_clusters = k, init = 'k-means++', random_state = 1234, n_init = 10)\n",
    "    kmeans.fit(scaled_data)\n",
    "    score = silhouette_score(scaled_data, kmeans.labels_)\n",
    "    silhouette_coefficients.append(score)"
   ]
  },
  {
   "cell_type": "code",
   "execution_count": 66,
   "metadata": {},
   "outputs": [
    {
     "data": {
      "image/png": "[encoded data removed]",
      "text/plain": [
       "<Figure size 432x288 with 1 Axes>"
      ]
     },
     "metadata": {
      "needs_background": "light"
     },
     "output_type": "display_data"
    }
   ],
   "source": [
    "plt.plot(range(2, 11), silhouette_coefficients)\n",
    "plt.xticks(range(2, 11))\n",
    "plt.xlabel(\"Number of Clusters\")\n",
    "plt.ylabel(\"Silhouette Coefficient\")\n",
    "plt.show()"
   ]
  },
  {
   "cell_type": "markdown",
   "metadata": {},
   "source": [
    "# End of the Code"
   ]
  }
 ],
 "metadata": {
  "kernelspec": {
   "display_name": "Python 3",
   "language": "python",
   "name": "python3"
  },
  "language_info": {
   "codemirror_mode": {
    "name": "ipython",
    "version": 3
   },
   "file_extension": ".py",
   "mimetype": "text/x-python",
   "name": "python",
   "nbconvert_exporter": "python",
   "pygments_lexer": "ipython3",
   "version": "3.7.6"
  }
 },
 "nbformat": 4,
 "nbformat_minor": 4
}
